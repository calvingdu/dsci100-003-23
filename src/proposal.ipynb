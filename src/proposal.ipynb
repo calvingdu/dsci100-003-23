{
 "cells": [
  {
   "cell_type": "markdown",
   "metadata": {},
   "source": [
    "## Classification of Income Being Above or Below/Equal to $50,000 in Adult Census Data\n",
    "\n",
    "By: Sunsar, Sarah, Emily, Calvin (DSCI 100 003 - Group 23)\n",
    "\n",
    "Data is from: https://www.kaggle.com/datasets/uciml/adult-census-income"
   ]
  },
  {
   "cell_type": "markdown",
   "metadata": {},
   "source": [
    "The dataset used for this analysis is derived from the 1994 Census Bureau database. \n",
    "\n",
    "The dataset contains a diverse range of numerical and categorical attributes, such as age, hours worked per week,  sex, and more. In this project, we will filter and simplify some categories from this dataset to predict whether an individual\"s annual salary falls above or below $50,000.\n",
    "\n",
    "The question this project will seek to answer is: \n",
    "\n",
    "**How do different aspects of a person predict whether annual income will be above or below $50K annually?**"
   ]
  },
  {
   "cell_type": "markdown",
   "metadata": {},
   "source": [
    "# Reading in Data"
   ]
  },
  {
   "cell_type": "code",
   "execution_count": 1,
   "metadata": {
    "vscode": {
     "languageId": "r"
    }
   },
   "outputs": [
    {
     "name": "stderr",
     "output_type": "stream",
     "text": [
      "-- \u001b[1mAttaching core tidyverse packages\u001b[22m ------------------------ tidyverse 2.0.0 --\n",
      "\u001b[32mv\u001b[39m \u001b[34mdplyr    \u001b[39m 1.1.3     \u001b[32mv\u001b[39m \u001b[34mreadr    \u001b[39m 2.1.4\n",
      "\u001b[32mv\u001b[39m \u001b[34mforcats  \u001b[39m 1.0.0     \u001b[32mv\u001b[39m \u001b[34mstringr  \u001b[39m 1.5.0\n",
      "\u001b[32mv\u001b[39m \u001b[34mggplot2  \u001b[39m 3.4.3     \u001b[32mv\u001b[39m \u001b[34mtibble   \u001b[39m 3.2.1\n",
      "\u001b[32mv\u001b[39m \u001b[34mlubridate\u001b[39m 1.9.2     \u001b[32mv\u001b[39m \u001b[34mtidyr    \u001b[39m 1.3.0\n",
      "\u001b[32mv\u001b[39m \u001b[34mpurrr    \u001b[39m 1.0.2     \n",
      "-- \u001b[1mConflicts\u001b[22m ------------------------------------------ tidyverse_conflicts() --\n",
      "\u001b[31mx\u001b[39m \u001b[34mdplyr\u001b[39m::\u001b[32mfilter()\u001b[39m masks \u001b[34mstats\u001b[39m::filter()\n",
      "\u001b[31mx\u001b[39m \u001b[34mdplyr\u001b[39m::\u001b[32mlag()\u001b[39m    masks \u001b[34mstats\u001b[39m::lag()\n",
      "\u001b[36mi\u001b[39m Use the conflicted package (\u001b[3m\u001b[34m<http://conflicted.r-lib.org/>\u001b[39m\u001b[23m) to force all conflicts to become errors\n",
      "-- \u001b[1mAttaching packages\u001b[22m -------------------------------------- tidymodels 1.1.1 --\n",
      "\n",
      "\u001b[32mv\u001b[39m \u001b[34mbroom       \u001b[39m 1.0.5     \u001b[32mv\u001b[39m \u001b[34mrsample     \u001b[39m 1.2.0\n",
      "\u001b[32mv\u001b[39m \u001b[34mdials       \u001b[39m 1.2.0     \u001b[32mv\u001b[39m \u001b[34mtune        \u001b[39m 1.1.2\n",
      "\u001b[32mv\u001b[39m \u001b[34minfer       \u001b[39m 1.0.5     \u001b[32mv\u001b[39m \u001b[34mworkflows   \u001b[39m 1.1.3\n",
      "\u001b[32mv\u001b[39m \u001b[34mmodeldata   \u001b[39m 1.2.0     \u001b[32mv\u001b[39m \u001b[34mworkflowsets\u001b[39m 1.0.1\n",
      "\u001b[32mv\u001b[39m \u001b[34mparsnip     \u001b[39m 1.1.1     \u001b[32mv\u001b[39m \u001b[34myardstick   \u001b[39m 1.2.0\n",
      "\u001b[32mv\u001b[39m \u001b[34mrecipes     \u001b[39m 1.0.8     \n",
      "\n",
      "-- \u001b[1mConflicts\u001b[22m ----------------------------------------- tidymodels_conflicts() --\n",
      "\u001b[31mx\u001b[39m \u001b[34mscales\u001b[39m::\u001b[32mdiscard()\u001b[39m masks \u001b[34mpurrr\u001b[39m::discard()\n",
      "\u001b[31mx\u001b[39m \u001b[34mdplyr\u001b[39m::\u001b[32mfilter()\u001b[39m   masks \u001b[34mstats\u001b[39m::filter()\n",
      "\u001b[31mx\u001b[39m \u001b[34mrecipes\u001b[39m::\u001b[32mfixed()\u001b[39m  masks \u001b[34mstringr\u001b[39m::fixed()\n",
      "\u001b[31mx\u001b[39m \u001b[34mdplyr\u001b[39m::\u001b[32mlag()\u001b[39m      masks \u001b[34mstats\u001b[39m::lag()\n",
      "\u001b[31mx\u001b[39m \u001b[34myardstick\u001b[39m::\u001b[32mspec()\u001b[39m masks \u001b[34mreadr\u001b[39m::spec()\n",
      "\u001b[31mx\u001b[39m \u001b[34mrecipes\u001b[39m::\u001b[32mstep()\u001b[39m   masks \u001b[34mstats\u001b[39m::step()\n",
      "\u001b[34m*\u001b[39m Use suppressPackageStartupMessages() to eliminate package startup messages\n",
      "\n"
     ]
    }
   ],
   "source": [
    "library(tidyverse)\n",
    "library(tidymodels)"
   ]
  },
  {
   "cell_type": "code",
   "execution_count": 2,
   "metadata": {
    "vscode": {
     "languageId": "r"
    }
   },
   "outputs": [
    {
     "name": "stderr",
     "output_type": "stream",
     "text": [
      "\u001b[1mRows: \u001b[22m\u001b[34m32561\u001b[39m \u001b[1mColumns: \u001b[22m\u001b[34m15\u001b[39m\n",
      "\u001b[36m--\u001b[39m \u001b[1mColumn specification\u001b[22m \u001b[36m--------------------------------------------------------\u001b[39m\n",
      "\u001b[1mDelimiter:\u001b[22m \",\"\n",
      "\u001b[31mchr\u001b[39m (9): workclass, education, marital.status, occupation, relationship, rac...\n",
      "\u001b[32mdbl\u001b[39m (6): age, fnlwgt, education.num, capital.gain, capital.loss, hours.per.week\n",
      "\n",
      "\u001b[36mi\u001b[39m Use `spec()` to retrieve the full column specification for this data.\n",
      "\u001b[36mi\u001b[39m Specify the column types or set `show_col_types = FALSE` to quiet this message.\n"
     ]
    },
    {
     "data": {
      "text/html": [
       "'Training set row count: 26048'"
      ],
      "text/latex": [
       "'Training set row count: 26048'"
      ],
      "text/markdown": [
       "'Training set row count: 26048'"
      ],
      "text/plain": [
       "[1] \"Training set row count: 26048\""
      ]
     },
     "metadata": {},
     "output_type": "display_data"
    },
    {
     "data": {
      "text/html": [
       "'Testing set row count: 6513'"
      ],
      "text/latex": [
       "'Testing set row count: 6513'"
      ],
      "text/markdown": [
       "'Testing set row count: 6513'"
      ],
      "text/plain": [
       "[1] \"Testing set row count: 6513\""
      ]
     },
     "metadata": {},
     "output_type": "display_data"
    }
   ],
   "source": [
    "df = read_csv(\"https://raw.githubusercontent.com/calvingdu/dsci100-003-23/master/data/adult_census.csv\")\n",
    "\n",
    "# Splitting the data\n",
    "df_split <- initial_split(df, prop = 0.8, strata = income)\n",
    "df_train <- training(df_split)\n",
    "df_test <- testing(df_split)\n",
    "\n",
    "paste0(\"Training set row count: \", nrow(df_train))\n",
    "paste0(\"Testing set row count: \", nrow(df_test))"
   ]
  },
  {
   "cell_type": "code",
   "execution_count": 3,
   "metadata": {
    "vscode": {
     "languageId": "r"
    }
   },
   "outputs": [
    {
     "data": {
      "text/html": [
       "<table class=\"dataframe\">\n",
       "<caption>A tibble: 3 × 15</caption>\n",
       "<thead>\n",
       "\t<tr><th scope=col>age</th><th scope=col>workclass</th><th scope=col>fnlwgt</th><th scope=col>education</th><th scope=col>education.num</th><th scope=col>marital.status</th><th scope=col>occupation</th><th scope=col>relationship</th><th scope=col>race</th><th scope=col>sex</th><th scope=col>capital.gain</th><th scope=col>capital.loss</th><th scope=col>hours.per.week</th><th scope=col>native.country</th><th scope=col>income</th></tr>\n",
       "\t<tr><th scope=col>&lt;dbl&gt;</th><th scope=col>&lt;chr&gt;</th><th scope=col>&lt;dbl&gt;</th><th scope=col>&lt;chr&gt;</th><th scope=col>&lt;dbl&gt;</th><th scope=col>&lt;chr&gt;</th><th scope=col>&lt;chr&gt;</th><th scope=col>&lt;chr&gt;</th><th scope=col>&lt;chr&gt;</th><th scope=col>&lt;chr&gt;</th><th scope=col>&lt;dbl&gt;</th><th scope=col>&lt;dbl&gt;</th><th scope=col>&lt;dbl&gt;</th><th scope=col>&lt;chr&gt;</th><th scope=col>&lt;chr&gt;</th></tr>\n",
       "</thead>\n",
       "<tbody>\n",
       "\t<tr><td>90</td><td><span style=white-space:pre-wrap>?      </span></td><td> 77053</td><td><span style=white-space:pre-wrap>HS-grad     </span></td><td> 9</td><td><span style=white-space:pre-wrap>Widowed  </span></td><td><span style=white-space:pre-wrap>?             </span></td><td>Not-in-family</td><td>White</td><td>Female</td><td>0</td><td>4356</td><td>40</td><td>United-States</td><td>&lt;=50K</td></tr>\n",
       "\t<tr><td>66</td><td><span style=white-space:pre-wrap>?      </span></td><td>186061</td><td>Some-college</td><td>10</td><td><span style=white-space:pre-wrap>Widowed  </span></td><td><span style=white-space:pre-wrap>?             </span></td><td><span style=white-space:pre-wrap>Unmarried    </span></td><td>Black</td><td>Female</td><td>0</td><td>4356</td><td>40</td><td>United-States</td><td>&lt;=50K</td></tr>\n",
       "\t<tr><td>41</td><td>Private</td><td>264663</td><td>Some-college</td><td>10</td><td>Separated</td><td>Prof-specialty</td><td><span style=white-space:pre-wrap>Own-child    </span></td><td>White</td><td>Female</td><td>0</td><td>3900</td><td>40</td><td>United-States</td><td>&lt;=50K</td></tr>\n",
       "</tbody>\n",
       "</table>\n"
      ],
      "text/latex": [
       "A tibble: 3 × 15\n",
       "\\begin{tabular}{lllllllllllllll}\n",
       " age & workclass & fnlwgt & education & education.num & marital.status & occupation & relationship & race & sex & capital.gain & capital.loss & hours.per.week & native.country & income\\\\\n",
       " <dbl> & <chr> & <dbl> & <chr> & <dbl> & <chr> & <chr> & <chr> & <chr> & <chr> & <dbl> & <dbl> & <dbl> & <chr> & <chr>\\\\\n",
       "\\hline\n",
       "\t 90 & ?       &  77053 & HS-grad      &  9 & Widowed   & ?              & Not-in-family & White & Female & 0 & 4356 & 40 & United-States & <=50K\\\\\n",
       "\t 66 & ?       & 186061 & Some-college & 10 & Widowed   & ?              & Unmarried     & Black & Female & 0 & 4356 & 40 & United-States & <=50K\\\\\n",
       "\t 41 & Private & 264663 & Some-college & 10 & Separated & Prof-specialty & Own-child     & White & Female & 0 & 3900 & 40 & United-States & <=50K\\\\\n",
       "\\end{tabular}\n"
      ],
      "text/markdown": [
       "\n",
       "A tibble: 3 × 15\n",
       "\n",
       "| age &lt;dbl&gt; | workclass &lt;chr&gt; | fnlwgt &lt;dbl&gt; | education &lt;chr&gt; | education.num &lt;dbl&gt; | marital.status &lt;chr&gt; | occupation &lt;chr&gt; | relationship &lt;chr&gt; | race &lt;chr&gt; | sex &lt;chr&gt; | capital.gain &lt;dbl&gt; | capital.loss &lt;dbl&gt; | hours.per.week &lt;dbl&gt; | native.country &lt;chr&gt; | income &lt;chr&gt; |\n",
       "|---|---|---|---|---|---|---|---|---|---|---|---|---|---|---|\n",
       "| 90 | ?       |  77053 | HS-grad      |  9 | Widowed   | ?              | Not-in-family | White | Female | 0 | 4356 | 40 | United-States | &lt;=50K |\n",
       "| 66 | ?       | 186061 | Some-college | 10 | Widowed   | ?              | Unmarried     | Black | Female | 0 | 4356 | 40 | United-States | &lt;=50K |\n",
       "| 41 | Private | 264663 | Some-college | 10 | Separated | Prof-specialty | Own-child     | White | Female | 0 | 3900 | 40 | United-States | &lt;=50K |\n",
       "\n"
      ],
      "text/plain": [
       "  age workclass fnlwgt education    education.num marital.status occupation    \n",
       "1 90  ?          77053 HS-grad       9            Widowed        ?             \n",
       "2 66  ?         186061 Some-college 10            Widowed        ?             \n",
       "3 41  Private   264663 Some-college 10            Separated      Prof-specialty\n",
       "  relationship  race  sex    capital.gain capital.loss hours.per.week\n",
       "1 Not-in-family White Female 0            4356         40            \n",
       "2 Unmarried     Black Female 0            4356         40            \n",
       "3 Own-child     White Female 0            3900         40            \n",
       "  native.country income\n",
       "1 United-States  <=50K \n",
       "2 United-States  <=50K \n",
       "3 United-States  <=50K "
      ]
     },
     "metadata": {},
     "output_type": "display_data"
    }
   ],
   "source": [
    "head(df_train, 3)"
   ]
  },
  {
   "cell_type": "markdown",
   "metadata": {},
   "source": [
    "# Tidying/Cleaning The Data & Selecting Columns\n",
    "We can begin by tidying up the data. Something we noticed immediately that there are a lot of categorical columns. To tackle this, we plan to make buckets of categories and then turn them into dummy variables. For example, we can turn __sex__ into a dummy variable where 0 = male and 1 = female, make dummy variables by bucketting different things such as paid/unpaid in __workclass__, or making a dummy variable for every unique value. \n",
    "\n",
    "These are the columns we plan to use and how we plan to tackle them to make them usable in data: \n",
    "- **Age**: No changes (either than scaling/imputation)\n",
    "- **Workclass**: Make a dummy variable for paid/unpaid\n",
    "- **Education**: Simplified to a dummy variable of if College Graduate or Not\n",
    "- **Occupation**: Make a dummy variable for all the occupations\n",
    "- **Relationship**: Simplified a dummy variable of Married or Not\n",
    "- **Sex**: Transformed into a Dummy Variable\n",
    "- **Capital Gain**: No changes (either than scaling/imputation)\n",
    "- **Capital Loss**: No changes (either than scaling/imputation)\n",
    "- **Hours Per Week**: No changes (either than scaling/imputation)\n",
    "- **Native Country**: Evaluated what country has the most people with income > 50k (United States by a large margin) and then make a dummy variable for being in this country or not \n",
    "\n",
    "**Dropped Columns & Reasoning**: \n",
    "- fnlwgt: Unclear how this relates\n",
    "- education.num: Already have education\n",
    "- race: Don\"t believe this is significant to the study so removing to avoid overfitting \n",
    "- marital.status: We think it\"s similar to relationship so we remove to avoid overfitting \n"
   ]
  },
  {
   "cell_type": "markdown",
   "metadata": {},
   "source": [
    "This is also some tidying to do. We can initially see that there are some missing values in __workclass__ and __occupation__ represented as ?. Since we believe these are extremely important roles to guess income category, we remove any rows that don't have data for this. "
   ]
  },
  {
   "cell_type": "code",
   "execution_count": 4,
   "metadata": {
    "vscode": {
     "languageId": "r"
    }
   },
   "outputs": [],
   "source": [
    "filtered_df <- df_train |>\n",
    "  select(age, workclass, education, occupation, relationship, sex,\n",
    "         capital.gain, capital.loss, hours.per.week, native.country, income) |>\n",
    "  filter(workclass != \"?\" & occupation != \"?\")"
   ]
  },
  {
   "cell_type": "markdown",
   "metadata": {},
   "source": [
    "Then, we can begin by making dummy variables in the data using the above choices"
   ]
  },
  {
   "cell_type": "markdown",
   "metadata": {},
   "source": [
    "### Binary Preprocessing"
   ]
  },
  {
   "cell_type": "code",
   "execution_count": 5,
   "metadata": {
    "vscode": {
     "languageId": "r"
    }
   },
   "outputs": [],
   "source": [
    "# Making a function to be used later\n",
    "preprocess_binary <- function(df){\n",
    "    transformed_df <- df |>\n",
    "        mutate(is_married = ifelse((relationship == \"Husband\" | relationship == \"Wife\" |relationship == \"Wife\"),1,0)) |>\n",
    "        mutate(sex_dummy = ifelse(sex == \"Female\", 1, 0)) |>\n",
    "        mutate(being_paid = ifelse(workclass != \"Self-emp-not-inc\" & workclass != \"Without-pay\" & workclass != \"Never-worked\", 1, 0)) |>\n",
    "        mutate(is_american = ifelse(native.country == \"United-States\", 1, 0))\n",
    "    return(transformed_df)\n",
    "}\n",
    "\n",
    "binary_df <- preprocess_binary(filtered_df)"
   ]
  },
  {
   "cell_type": "markdown",
   "metadata": {},
   "source": [
    "### Dummy Variables for Every Occupation"
   ]
  },
  {
   "cell_type": "code",
   "execution_count": 6,
   "metadata": {
    "vscode": {
     "languageId": "r"
    }
   },
   "outputs": [],
   "source": [
    "unique_occupations <- as.list(unique(binary_df$occupation))\n",
    "\n",
    "# Making a function to use later\n",
    "preprocess_occupation <- function(df, occupations){\n",
    "    for (occ in occupations) {\n",
    "        col_name <- gsub(\"[^a-zA-Z0-9 ]\", \".\", tolower(occ))\n",
    "        df[[col_name]] <- as.integer(df$occupation == occ)\n",
    "    }\n",
    "    return(df)\n",
    "}\n",
    "\n",
    "occupations_df <- preprocess_occupation(binary_df, unique_occupations)"
   ]
  },
  {
   "cell_type": "markdown",
   "metadata": {},
   "source": [
    "### Removing Original Variables"
   ]
  },
  {
   "cell_type": "code",
   "execution_count": 7,
   "metadata": {
    "vscode": {
     "languageId": "r"
    }
   },
   "outputs": [
    {
     "data": {
      "text/html": [
       "<table class=\"dataframe\">\n",
       "<caption>A tibble: 6 × 23</caption>\n",
       "<thead>\n",
       "\t<tr><th scope=col>age</th><th scope=col>capital.gain</th><th scope=col>capital.loss</th><th scope=col>hours.per.week</th><th scope=col>income</th><th scope=col>is_married</th><th scope=col>sex_dummy</th><th scope=col>being_paid</th><th scope=col>is_american</th><th scope=col>prof.specialty</th><th scope=col>...</th><th scope=col>craft.repair</th><th scope=col>farming.fishing</th><th scope=col>adm.clerical</th><th scope=col>exec.managerial</th><th scope=col>handlers.cleaners</th><th scope=col>machine.op.inspct</th><th scope=col>protective.serv</th><th scope=col>tech.support</th><th scope=col>priv.house.serv</th><th scope=col>armed.forces</th></tr>\n",
       "\t<tr><th scope=col>&lt;dbl&gt;</th><th scope=col>&lt;dbl&gt;</th><th scope=col>&lt;dbl&gt;</th><th scope=col>&lt;dbl&gt;</th><th scope=col>&lt;chr&gt;</th><th scope=col>&lt;dbl&gt;</th><th scope=col>&lt;dbl&gt;</th><th scope=col>&lt;dbl&gt;</th><th scope=col>&lt;dbl&gt;</th><th scope=col>&lt;int&gt;</th><th scope=col>...</th><th scope=col>&lt;int&gt;</th><th scope=col>&lt;int&gt;</th><th scope=col>&lt;int&gt;</th><th scope=col>&lt;int&gt;</th><th scope=col>&lt;int&gt;</th><th scope=col>&lt;int&gt;</th><th scope=col>&lt;int&gt;</th><th scope=col>&lt;int&gt;</th><th scope=col>&lt;int&gt;</th><th scope=col>&lt;int&gt;</th></tr>\n",
       "</thead>\n",
       "<tbody>\n",
       "\t<tr><td>41</td><td>0</td><td>3900</td><td>40</td><td>&lt;=50K</td><td>0</td><td>1</td><td>1</td><td>1</td><td>1</td><td>...</td><td>0</td><td>0</td><td>0</td><td>0</td><td>0</td><td>0</td><td>0</td><td>0</td><td>0</td><td>0</td></tr>\n",
       "\t<tr><td>34</td><td>0</td><td>3770</td><td>45</td><td>&lt;=50K</td><td>0</td><td>1</td><td>1</td><td>1</td><td>0</td><td>...</td><td>0</td><td>0</td><td>0</td><td>0</td><td>0</td><td>0</td><td>0</td><td>0</td><td>0</td><td>0</td></tr>\n",
       "\t<tr><td>61</td><td>0</td><td>2754</td><td>25</td><td>&lt;=50K</td><td>0</td><td>1</td><td>1</td><td>1</td><td>0</td><td>...</td><td>0</td><td>0</td><td>0</td><td>0</td><td>0</td><td>0</td><td>0</td><td>0</td><td>0</td><td>0</td></tr>\n",
       "\t<tr><td>51</td><td>0</td><td>2603</td><td>40</td><td>&lt;=50K</td><td>1</td><td>0</td><td>1</td><td>1</td><td>0</td><td>...</td><td>0</td><td>0</td><td>0</td><td>0</td><td>0</td><td>0</td><td>0</td><td>0</td><td>0</td><td>0</td></tr>\n",
       "\t<tr><td>21</td><td>0</td><td>2603</td><td>40</td><td>&lt;=50K</td><td>1</td><td>0</td><td>1</td><td>1</td><td>0</td><td>...</td><td>1</td><td>0</td><td>0</td><td>0</td><td>0</td><td>0</td><td>0</td><td>0</td><td>0</td><td>0</td></tr>\n",
       "\t<tr><td>33</td><td>0</td><td>2603</td><td>32</td><td>&lt;=50K</td><td>0</td><td>0</td><td>1</td><td>0</td><td>0</td><td>...</td><td>1</td><td>0</td><td>0</td><td>0</td><td>0</td><td>0</td><td>0</td><td>0</td><td>0</td><td>0</td></tr>\n",
       "</tbody>\n",
       "</table>\n"
      ],
      "text/latex": [
       "A tibble: 6 × 23\n",
       "\\begin{tabular}{lllllllllllllllllllll}\n",
       " age & capital.gain & capital.loss & hours.per.week & income & is\\_married & sex\\_dummy & being\\_paid & is\\_american & prof.specialty & ... & craft.repair & farming.fishing & adm.clerical & exec.managerial & handlers.cleaners & machine.op.inspct & protective.serv & tech.support & priv.house.serv & armed.forces\\\\\n",
       " <dbl> & <dbl> & <dbl> & <dbl> & <chr> & <dbl> & <dbl> & <dbl> & <dbl> & <int> & ... & <int> & <int> & <int> & <int> & <int> & <int> & <int> & <int> & <int> & <int>\\\\\n",
       "\\hline\n",
       "\t 41 & 0 & 3900 & 40 & <=50K & 0 & 1 & 1 & 1 & 1 & ... & 0 & 0 & 0 & 0 & 0 & 0 & 0 & 0 & 0 & 0\\\\\n",
       "\t 34 & 0 & 3770 & 45 & <=50K & 0 & 1 & 1 & 1 & 0 & ... & 0 & 0 & 0 & 0 & 0 & 0 & 0 & 0 & 0 & 0\\\\\n",
       "\t 61 & 0 & 2754 & 25 & <=50K & 0 & 1 & 1 & 1 & 0 & ... & 0 & 0 & 0 & 0 & 0 & 0 & 0 & 0 & 0 & 0\\\\\n",
       "\t 51 & 0 & 2603 & 40 & <=50K & 1 & 0 & 1 & 1 & 0 & ... & 0 & 0 & 0 & 0 & 0 & 0 & 0 & 0 & 0 & 0\\\\\n",
       "\t 21 & 0 & 2603 & 40 & <=50K & 1 & 0 & 1 & 1 & 0 & ... & 1 & 0 & 0 & 0 & 0 & 0 & 0 & 0 & 0 & 0\\\\\n",
       "\t 33 & 0 & 2603 & 32 & <=50K & 0 & 0 & 1 & 0 & 0 & ... & 1 & 0 & 0 & 0 & 0 & 0 & 0 & 0 & 0 & 0\\\\\n",
       "\\end{tabular}\n"
      ],
      "text/markdown": [
       "\n",
       "A tibble: 6 × 23\n",
       "\n",
       "| age &lt;dbl&gt; | capital.gain &lt;dbl&gt; | capital.loss &lt;dbl&gt; | hours.per.week &lt;dbl&gt; | income &lt;chr&gt; | is_married &lt;dbl&gt; | sex_dummy &lt;dbl&gt; | being_paid &lt;dbl&gt; | is_american &lt;dbl&gt; | prof.specialty &lt;int&gt; | ... ... | craft.repair &lt;int&gt; | farming.fishing &lt;int&gt; | adm.clerical &lt;int&gt; | exec.managerial &lt;int&gt; | handlers.cleaners &lt;int&gt; | machine.op.inspct &lt;int&gt; | protective.serv &lt;int&gt; | tech.support &lt;int&gt; | priv.house.serv &lt;int&gt; | armed.forces &lt;int&gt; |\n",
       "|---|---|---|---|---|---|---|---|---|---|---|---|---|---|---|---|---|---|---|---|---|\n",
       "| 41 | 0 | 3900 | 40 | &lt;=50K | 0 | 1 | 1 | 1 | 1 | ... | 0 | 0 | 0 | 0 | 0 | 0 | 0 | 0 | 0 | 0 |\n",
       "| 34 | 0 | 3770 | 45 | &lt;=50K | 0 | 1 | 1 | 1 | 0 | ... | 0 | 0 | 0 | 0 | 0 | 0 | 0 | 0 | 0 | 0 |\n",
       "| 61 | 0 | 2754 | 25 | &lt;=50K | 0 | 1 | 1 | 1 | 0 | ... | 0 | 0 | 0 | 0 | 0 | 0 | 0 | 0 | 0 | 0 |\n",
       "| 51 | 0 | 2603 | 40 | &lt;=50K | 1 | 0 | 1 | 1 | 0 | ... | 0 | 0 | 0 | 0 | 0 | 0 | 0 | 0 | 0 | 0 |\n",
       "| 21 | 0 | 2603 | 40 | &lt;=50K | 1 | 0 | 1 | 1 | 0 | ... | 1 | 0 | 0 | 0 | 0 | 0 | 0 | 0 | 0 | 0 |\n",
       "| 33 | 0 | 2603 | 32 | &lt;=50K | 0 | 0 | 1 | 0 | 0 | ... | 1 | 0 | 0 | 0 | 0 | 0 | 0 | 0 | 0 | 0 |\n",
       "\n"
      ],
      "text/plain": [
       "  age capital.gain capital.loss hours.per.week income is_married sex_dummy\n",
       "1 41  0            3900         40             <=50K  0          1        \n",
       "2 34  0            3770         45             <=50K  0          1        \n",
       "3 61  0            2754         25             <=50K  0          1        \n",
       "4 51  0            2603         40             <=50K  1          0        \n",
       "5 21  0            2603         40             <=50K  1          0        \n",
       "6 33  0            2603         32             <=50K  0          0        \n",
       "  being_paid is_american prof.specialty ... craft.repair farming.fishing\n",
       "1 1          1           1              ... 0            0              \n",
       "2 1          1           0              ... 0            0              \n",
       "3 1          1           0              ... 0            0              \n",
       "4 1          1           0              ... 0            0              \n",
       "5 1          1           0              ... 1            0              \n",
       "6 1          0           0              ... 1            0              \n",
       "  adm.clerical exec.managerial handlers.cleaners machine.op.inspct\n",
       "1 0            0               0                 0                \n",
       "2 0            0               0                 0                \n",
       "3 0            0               0                 0                \n",
       "4 0            0               0                 0                \n",
       "5 0            0               0                 0                \n",
       "6 0            0               0                 0                \n",
       "  protective.serv tech.support priv.house.serv armed.forces\n",
       "1 0               0            0               0           \n",
       "2 0               0            0               0           \n",
       "3 0               0            0               0           \n",
       "4 0               0            0               0           \n",
       "5 0               0            0               0           \n",
       "6 0               0            0               0           "
      ]
     },
     "metadata": {},
     "output_type": "display_data"
    }
   ],
   "source": [
    "tidy_df <- occupations_df |>\n",
    "    select(-c(occupation, workclass, education, occupation, relationship, sex, native.country))\n",
    "\n",
    "head(tidy_df)"
   ]
  },
  {
   "cell_type": "code",
   "execution_count": 8,
   "metadata": {
    "vscode": {
     "languageId": "r"
    }
   },
   "outputs": [
    {
     "name": "stdout",
     "output_type": "stream",
     "text": [
      "[1] TRUE\n"
     ]
    }
   ],
   "source": [
    "process_df <- function(df){\n",
    "    filtered_df <- df |>\n",
    "    select(age, workclass, education, occupation, relationship, sex,\n",
    "            capital.gain, capital.loss, hours.per.week, native.country, income) |>\n",
    "    filter(workclass != \"?\" & occupation != \"?\")\n",
    "\n",
    "    binary_df <- preprocess_binary(filtered_df)\n",
    "\n",
    "    unique_occupations <- as.list(unique(binary_df$occupation))\n",
    "    occupations_df <- preprocess_occupation(binary_df, unique_occupations) \n",
    "    new_cols_df <- select(occupations_df, -c(occupation, workclass, education, occupation, relationship, sex, native.country))\n",
    "\n",
    "    return(new_cols_df)\n",
    "}\n",
    "\n",
    "processed_df_train <- process_df(df_train)\n",
    "print(all.equal(processed_df_train, tidy_df) & all.equal(colnames(processed_df_train), colnames(tidy_df)))"
   ]
  },
  {
   "cell_type": "markdown",
   "metadata": {},
   "source": [
    "# Preliminary Exploratory Data Analysis\n",
    "\n"
   ]
  },
  {
   "cell_type": "markdown",
   "metadata": {},
   "source": [
    "## Summary Table"
   ]
  },
  {
   "cell_type": "code",
   "execution_count": 9,
   "metadata": {
    "vscode": {
     "languageId": "r"
    }
   },
   "outputs": [
    {
     "data": {
      "text/html": [
       "<table class=\"dataframe\">\n",
       "<caption>A matrix: 23 × 2 of type chr</caption>\n",
       "<tbody>\n",
       "\t<tr><th scope=row>income</th><td><span style=white-space:pre-wrap>&lt;=50K       </span></td><td><span style=white-space:pre-wrap>&gt;50K        </span></td></tr>\n",
       "\t<tr><th scope=row>mean_age</th><td>36.60979    </td><td>43.92667    </td></tr>\n",
       "\t<tr><th scope=row>mean_capital.gain</th><td> 144.1656   </td><td>3991.2340   </td></tr>\n",
       "\t<tr><th scope=row>mean_capital.loss</th><td> 51.89115   </td><td>193.75094   </td></tr>\n",
       "\t<tr><th scope=row>mean_hours.per.week</th><td>39.36592    </td><td>45.74179    </td></tr>\n",
       "\t<tr><th scope=row>mean_is_married</th><td>0.3307006   </td><td>0.8486036   </td></tr>\n",
       "\t<tr><th scope=row>mean_sex_dummy</th><td>0.3814985   </td><td>0.1471501   </td></tr>\n",
       "\t<tr><th scope=row>mean_being_paid</th><td>0.9201515   </td><td>0.9062551   </td></tr>\n",
       "\t<tr><th scope=row>mean_is_american</th><td>0.8883960   </td><td>0.9150743   </td></tr>\n",
       "\t<tr><th scope=row>mean_prof.specialty</th><td>0.09937787  </td><td>0.24007839  </td></tr>\n",
       "\t<tr><th scope=row>mean_other.service</th><td>0.13719232  </td><td>0.01796505  </td></tr>\n",
       "\t<tr><th scope=row>mean_sales</th><td>0.1142548   </td><td>0.1311449   </td></tr>\n",
       "\t<tr><th scope=row>mean_transport.moving</th><td>0.05626183  </td><td>0.04197289  </td></tr>\n",
       "\t<tr><th scope=row>mean_craft.repair</th><td>0.1354071   </td><td>0.1210191   </td></tr>\n",
       "\t<tr><th scope=row>mean_farming.fishing</th><td>0.03786854  </td><td>0.01453536  </td></tr>\n",
       "\t<tr><th scope=row>mean_adm.clerical</th><td>0.14119556  </td><td>0.06647068  </td></tr>\n",
       "\t<tr><th scope=row>mean_exec.managerial</th><td>0.09077631  </td><td>0.25886004  </td></tr>\n",
       "\t<tr><th scope=row>mean_handlers.cleaners</th><td>0.05658642  </td><td>0.01077903  </td></tr>\n",
       "\t<tr><th scope=row>mean_machine.op.inspct</th><td>0.07633216  </td><td>0.03135718  </td></tr>\n",
       "\t<tr><th scope=row>mean_protective.serv</th><td>0.01920476  </td><td>0.02923404  </td></tr>\n",
       "\t<tr><th scope=row>mean_tech.support</th><td>0.02888829  </td><td>0.03625674  </td></tr>\n",
       "\t<tr><th scope=row>mean_priv.house.serv</th><td>0.0062212605</td><td>0.0001633186</td></tr>\n",
       "\t<tr><th scope=row>mean_armed.forces</th><td>0.0004327833</td><td>0.0001633186</td></tr>\n",
       "</tbody>\n",
       "</table>\n"
      ],
      "text/latex": [
       "A matrix: 23 × 2 of type chr\n",
       "\\begin{tabular}{r|ll}\n",
       "\tincome & <=50K        & >50K        \\\\\n",
       "\tmean\\_age & 36.60979     & 43.92667    \\\\\n",
       "\tmean\\_capital.gain &  144.1656    & 3991.2340   \\\\\n",
       "\tmean\\_capital.loss &  51.89115    & 193.75094   \\\\\n",
       "\tmean\\_hours.per.week & 39.36592     & 45.74179    \\\\\n",
       "\tmean\\_is\\_married & 0.3307006    & 0.8486036   \\\\\n",
       "\tmean\\_sex\\_dummy & 0.3814985    & 0.1471501   \\\\\n",
       "\tmean\\_being\\_paid & 0.9201515    & 0.9062551   \\\\\n",
       "\tmean\\_is\\_american & 0.8883960    & 0.9150743   \\\\\n",
       "\tmean\\_prof.specialty & 0.09937787   & 0.24007839  \\\\\n",
       "\tmean\\_other.service & 0.13719232   & 0.01796505  \\\\\n",
       "\tmean\\_sales & 0.1142548    & 0.1311449   \\\\\n",
       "\tmean\\_transport.moving & 0.05626183   & 0.04197289  \\\\\n",
       "\tmean\\_craft.repair & 0.1354071    & 0.1210191   \\\\\n",
       "\tmean\\_farming.fishing & 0.03786854   & 0.01453536  \\\\\n",
       "\tmean\\_adm.clerical & 0.14119556   & 0.06647068  \\\\\n",
       "\tmean\\_exec.managerial & 0.09077631   & 0.25886004  \\\\\n",
       "\tmean\\_handlers.cleaners & 0.05658642   & 0.01077903  \\\\\n",
       "\tmean\\_machine.op.inspct & 0.07633216   & 0.03135718  \\\\\n",
       "\tmean\\_protective.serv & 0.01920476   & 0.02923404  \\\\\n",
       "\tmean\\_tech.support & 0.02888829   & 0.03625674  \\\\\n",
       "\tmean\\_priv.house.serv & 0.0062212605 & 0.0001633186\\\\\n",
       "\tmean\\_armed.forces & 0.0004327833 & 0.0001633186\\\\\n",
       "\\end{tabular}\n"
      ],
      "text/markdown": [
       "\n",
       "A matrix: 23 × 2 of type chr\n",
       "\n",
       "| income | &lt;=50K        | &gt;50K         |\n",
       "| mean_age | 36.60979     | 43.92667     |\n",
       "| mean_capital.gain |  144.1656    | 3991.2340    |\n",
       "| mean_capital.loss |  51.89115    | 193.75094    |\n",
       "| mean_hours.per.week | 39.36592     | 45.74179     |\n",
       "| mean_is_married | 0.3307006    | 0.8486036    |\n",
       "| mean_sex_dummy | 0.3814985    | 0.1471501    |\n",
       "| mean_being_paid | 0.9201515    | 0.9062551    |\n",
       "| mean_is_american | 0.8883960    | 0.9150743    |\n",
       "| mean_prof.specialty | 0.09937787   | 0.24007839   |\n",
       "| mean_other.service | 0.13719232   | 0.01796505   |\n",
       "| mean_sales | 0.1142548    | 0.1311449    |\n",
       "| mean_transport.moving | 0.05626183   | 0.04197289   |\n",
       "| mean_craft.repair | 0.1354071    | 0.1210191    |\n",
       "| mean_farming.fishing | 0.03786854   | 0.01453536   |\n",
       "| mean_adm.clerical | 0.14119556   | 0.06647068   |\n",
       "| mean_exec.managerial | 0.09077631   | 0.25886004   |\n",
       "| mean_handlers.cleaners | 0.05658642   | 0.01077903   |\n",
       "| mean_machine.op.inspct | 0.07633216   | 0.03135718   |\n",
       "| mean_protective.serv | 0.01920476   | 0.02923404   |\n",
       "| mean_tech.support | 0.02888829   | 0.03625674   |\n",
       "| mean_priv.house.serv | 0.0062212605 | 0.0001633186 |\n",
       "| mean_armed.forces | 0.0004327833 | 0.0001633186 |\n",
       "\n"
      ],
      "text/plain": [
       "                       [,1]         [,2]        \n",
       "income                 <=50K        >50K        \n",
       "mean_age               36.60979     43.92667    \n",
       "mean_capital.gain       144.1656    3991.2340   \n",
       "mean_capital.loss       51.89115    193.75094   \n",
       "mean_hours.per.week    39.36592     45.74179    \n",
       "mean_is_married        0.3307006    0.8486036   \n",
       "mean_sex_dummy         0.3814985    0.1471501   \n",
       "mean_being_paid        0.9201515    0.9062551   \n",
       "mean_is_american       0.8883960    0.9150743   \n",
       "mean_prof.specialty    0.09937787   0.24007839  \n",
       "mean_other.service     0.13719232   0.01796505  \n",
       "mean_sales             0.1142548    0.1311449   \n",
       "mean_transport.moving  0.05626183   0.04197289  \n",
       "mean_craft.repair      0.1354071    0.1210191   \n",
       "mean_farming.fishing   0.03786854   0.01453536  \n",
       "mean_adm.clerical      0.14119556   0.06647068  \n",
       "mean_exec.managerial   0.09077631   0.25886004  \n",
       "mean_handlers.cleaners 0.05658642   0.01077903  \n",
       "mean_machine.op.inspct 0.07633216   0.03135718  \n",
       "mean_protective.serv   0.01920476   0.02923404  \n",
       "mean_tech.support      0.02888829   0.03625674  \n",
       "mean_priv.house.serv   0.0062212605 0.0001633186\n",
       "mean_armed.forces      0.0004327833 0.0001633186"
      ]
     },
     "metadata": {},
     "output_type": "display_data"
    }
   ],
   "source": [
    "tidy_df |>\n",
    "group_by(income) |>\n",
    "summarize(across(everything(), ~ mean(., na.rm = TRUE), .names = \"mean_{.col}\")) |>\n",
    "t()"
   ]
  },
  {
   "cell_type": "markdown",
   "metadata": {},
   "source": [
    "## Summary Visualization"
   ]
  },
  {
   "cell_type": "markdown",
   "metadata": {},
   "source": [
    "# Methods"
   ]
  },
  {
   "cell_type": "markdown",
   "metadata": {},
   "source": []
  },
  {
   "cell_type": "markdown",
   "metadata": {},
   "source": [
    "# Expected outcomes and significance"
   ]
  }
 ],
 "metadata": {
  "kernelspec": {
   "display_name": "R",
   "language": "R",
   "name": "ir"
  },
  "language_info": {
   "codemirror_mode": "r",
   "file_extension": ".r",
   "mimetype": "text/x-r-source",
   "name": "R",
   "pygments_lexer": "r",
   "version": "4.3.1"
  }
 },
 "nbformat": 4,
 "nbformat_minor": 2
}
