{
 "cells": [
  {
   "cell_type": "markdown",
   "metadata": {},
   "source": [
    "Data is from: https://www.kaggle.com/datasets/uciml/adult-census-income"
   ]
  },
  {
   "cell_type": "code",
   "execution_count": 4,
   "metadata": {
    "vscode": {
     "languageId": "r"
    }
   },
   "outputs": [],
   "source": [
    "library(tidyverse)\n",
    "library(tidymodels)"
   ]
  },
  {
   "cell_type": "code",
   "execution_count": 3,
   "metadata": {
    "vscode": {
     "languageId": "r"
    }
   },
   "outputs": [
    {
     "name": "stderr",
     "output_type": "stream",
     "text": [
      "\u001b[1mRows: \u001b[22m\u001b[34m32561\u001b[39m \u001b[1mColumns: \u001b[22m\u001b[34m15\u001b[39m\n",
      "\u001b[36m--\u001b[39m \u001b[1mColumn specification\u001b[22m \u001b[36m--------------------------------------------------------\u001b[39m\n",
      "\u001b[1mDelimiter:\u001b[22m \",\"\n",
      "\u001b[31mchr\u001b[39m (9): workclass, education, marital.status, occupation, relationship, rac...\n",
      "\u001b[32mdbl\u001b[39m (6): age, fnlwgt, education.num, capital.gain, capital.loss, hours.per.week\n",
      "\n",
      "\u001b[36mi\u001b[39m Use `spec()` to retrieve the full column specification for this data.\n",
      "\u001b[36mi\u001b[39m Specify the column types or set `show_col_types = FALSE` to quiet this message.\n"
     ]
    },
    {
     "data": {
      "text/html": [
       "<table class=\"dataframe\">\n",
       "<caption>A tibble: 6 × 15</caption>\n",
       "<thead>\n",
       "\t<tr><th scope=col>age</th><th scope=col>workclass</th><th scope=col>fnlwgt</th><th scope=col>education</th><th scope=col>education.num</th><th scope=col>marital.status</th><th scope=col>occupation</th><th scope=col>relationship</th><th scope=col>race</th><th scope=col>sex</th><th scope=col>capital.gain</th><th scope=col>capital.loss</th><th scope=col>hours.per.week</th><th scope=col>native.country</th><th scope=col>income</th></tr>\n",
       "\t<tr><th scope=col>&lt;dbl&gt;</th><th scope=col>&lt;chr&gt;</th><th scope=col>&lt;dbl&gt;</th><th scope=col>&lt;chr&gt;</th><th scope=col>&lt;dbl&gt;</th><th scope=col>&lt;chr&gt;</th><th scope=col>&lt;chr&gt;</th><th scope=col>&lt;chr&gt;</th><th scope=col>&lt;chr&gt;</th><th scope=col>&lt;chr&gt;</th><th scope=col>&lt;dbl&gt;</th><th scope=col>&lt;dbl&gt;</th><th scope=col>&lt;dbl&gt;</th><th scope=col>&lt;chr&gt;</th><th scope=col>&lt;chr&gt;</th></tr>\n",
       "</thead>\n",
       "<tbody>\n",
       "\t<tr><td>90</td><td><span style=white-space:pre-wrap>?      </span></td><td> 77053</td><td><span style=white-space:pre-wrap>HS-grad     </span></td><td> 9</td><td><span style=white-space:pre-wrap>Widowed  </span></td><td><span style=white-space:pre-wrap>?                </span></td><td>Not-in-family</td><td>White</td><td>Female</td><td>0</td><td>4356</td><td>40</td><td>United-States</td><td>&lt;=50K</td></tr>\n",
       "\t<tr><td>82</td><td>Private</td><td>132870</td><td><span style=white-space:pre-wrap>HS-grad     </span></td><td> 9</td><td><span style=white-space:pre-wrap>Widowed  </span></td><td><span style=white-space:pre-wrap>Exec-managerial  </span></td><td>Not-in-family</td><td>White</td><td>Female</td><td>0</td><td>4356</td><td>18</td><td>United-States</td><td>&lt;=50K</td></tr>\n",
       "\t<tr><td>66</td><td><span style=white-space:pre-wrap>?      </span></td><td>186061</td><td>Some-college</td><td>10</td><td><span style=white-space:pre-wrap>Widowed  </span></td><td><span style=white-space:pre-wrap>?                </span></td><td><span style=white-space:pre-wrap>Unmarried    </span></td><td>Black</td><td>Female</td><td>0</td><td>4356</td><td>40</td><td>United-States</td><td>&lt;=50K</td></tr>\n",
       "\t<tr><td>54</td><td>Private</td><td>140359</td><td><span style=white-space:pre-wrap>7th-8th     </span></td><td> 4</td><td>Divorced </td><td>Machine-op-inspct</td><td><span style=white-space:pre-wrap>Unmarried    </span></td><td>White</td><td>Female</td><td>0</td><td>3900</td><td>40</td><td>United-States</td><td>&lt;=50K</td></tr>\n",
       "\t<tr><td>41</td><td>Private</td><td>264663</td><td>Some-college</td><td>10</td><td>Separated</td><td><span style=white-space:pre-wrap>Prof-specialty   </span></td><td><span style=white-space:pre-wrap>Own-child    </span></td><td>White</td><td>Female</td><td>0</td><td>3900</td><td>40</td><td>United-States</td><td>&lt;=50K</td></tr>\n",
       "\t<tr><td>34</td><td>Private</td><td>216864</td><td><span style=white-space:pre-wrap>HS-grad     </span></td><td> 9</td><td>Divorced </td><td><span style=white-space:pre-wrap>Other-service    </span></td><td><span style=white-space:pre-wrap>Unmarried    </span></td><td>White</td><td>Female</td><td>0</td><td>3770</td><td>45</td><td>United-States</td><td>&lt;=50K</td></tr>\n",
       "</tbody>\n",
       "</table>\n"
      ],
      "text/latex": [
       "A tibble: 6 × 15\n",
       "\\begin{tabular}{lllllllllllllll}\n",
       " age & workclass & fnlwgt & education & education.num & marital.status & occupation & relationship & race & sex & capital.gain & capital.loss & hours.per.week & native.country & income\\\\\n",
       " <dbl> & <chr> & <dbl> & <chr> & <dbl> & <chr> & <chr> & <chr> & <chr> & <chr> & <dbl> & <dbl> & <dbl> & <chr> & <chr>\\\\\n",
       "\\hline\n",
       "\t 90 & ?       &  77053 & HS-grad      &  9 & Widowed   & ?                 & Not-in-family & White & Female & 0 & 4356 & 40 & United-States & <=50K\\\\\n",
       "\t 82 & Private & 132870 & HS-grad      &  9 & Widowed   & Exec-managerial   & Not-in-family & White & Female & 0 & 4356 & 18 & United-States & <=50K\\\\\n",
       "\t 66 & ?       & 186061 & Some-college & 10 & Widowed   & ?                 & Unmarried     & Black & Female & 0 & 4356 & 40 & United-States & <=50K\\\\\n",
       "\t 54 & Private & 140359 & 7th-8th      &  4 & Divorced  & Machine-op-inspct & Unmarried     & White & Female & 0 & 3900 & 40 & United-States & <=50K\\\\\n",
       "\t 41 & Private & 264663 & Some-college & 10 & Separated & Prof-specialty    & Own-child     & White & Female & 0 & 3900 & 40 & United-States & <=50K\\\\\n",
       "\t 34 & Private & 216864 & HS-grad      &  9 & Divorced  & Other-service     & Unmarried     & White & Female & 0 & 3770 & 45 & United-States & <=50K\\\\\n",
       "\\end{tabular}\n"
      ],
      "text/markdown": [
       "\n",
       "A tibble: 6 × 15\n",
       "\n",
       "| age &lt;dbl&gt; | workclass &lt;chr&gt; | fnlwgt &lt;dbl&gt; | education &lt;chr&gt; | education.num &lt;dbl&gt; | marital.status &lt;chr&gt; | occupation &lt;chr&gt; | relationship &lt;chr&gt; | race &lt;chr&gt; | sex &lt;chr&gt; | capital.gain &lt;dbl&gt; | capital.loss &lt;dbl&gt; | hours.per.week &lt;dbl&gt; | native.country &lt;chr&gt; | income &lt;chr&gt; |\n",
       "|---|---|---|---|---|---|---|---|---|---|---|---|---|---|---|\n",
       "| 90 | ?       |  77053 | HS-grad      |  9 | Widowed   | ?                 | Not-in-family | White | Female | 0 | 4356 | 40 | United-States | &lt;=50K |\n",
       "| 82 | Private | 132870 | HS-grad      |  9 | Widowed   | Exec-managerial   | Not-in-family | White | Female | 0 | 4356 | 18 | United-States | &lt;=50K |\n",
       "| 66 | ?       | 186061 | Some-college | 10 | Widowed   | ?                 | Unmarried     | Black | Female | 0 | 4356 | 40 | United-States | &lt;=50K |\n",
       "| 54 | Private | 140359 | 7th-8th      |  4 | Divorced  | Machine-op-inspct | Unmarried     | White | Female | 0 | 3900 | 40 | United-States | &lt;=50K |\n",
       "| 41 | Private | 264663 | Some-college | 10 | Separated | Prof-specialty    | Own-child     | White | Female | 0 | 3900 | 40 | United-States | &lt;=50K |\n",
       "| 34 | Private | 216864 | HS-grad      |  9 | Divorced  | Other-service     | Unmarried     | White | Female | 0 | 3770 | 45 | United-States | &lt;=50K |\n",
       "\n"
      ],
      "text/plain": [
       "  age workclass fnlwgt education    education.num marital.status\n",
       "1 90  ?          77053 HS-grad       9            Widowed       \n",
       "2 82  Private   132870 HS-grad       9            Widowed       \n",
       "3 66  ?         186061 Some-college 10            Widowed       \n",
       "4 54  Private   140359 7th-8th       4            Divorced      \n",
       "5 41  Private   264663 Some-college 10            Separated     \n",
       "6 34  Private   216864 HS-grad       9            Divorced      \n",
       "  occupation        relationship  race  sex    capital.gain capital.loss\n",
       "1 ?                 Not-in-family White Female 0            4356        \n",
       "2 Exec-managerial   Not-in-family White Female 0            4356        \n",
       "3 ?                 Unmarried     Black Female 0            4356        \n",
       "4 Machine-op-inspct Unmarried     White Female 0            3900        \n",
       "5 Prof-specialty    Own-child     White Female 0            3900        \n",
       "6 Other-service     Unmarried     White Female 0            3770        \n",
       "  hours.per.week native.country income\n",
       "1 40             United-States  <=50K \n",
       "2 18             United-States  <=50K \n",
       "3 40             United-States  <=50K \n",
       "4 40             United-States  <=50K \n",
       "5 40             United-States  <=50K \n",
       "6 45             United-States  <=50K "
      ]
     },
     "metadata": {},
     "output_type": "display_data"
    }
   ],
   "source": [
    "data = read_csv('https://raw.githubusercontent.com/calvingdu/dsci100-003-23/master/data/adult_census.csv')\n",
    "head(data)"
   ]
  }
 ],
 "metadata": {
  "kernelspec": {
   "display_name": "R",
   "language": "R",
   "name": "ir"
  },
  "language_info": {
   "codemirror_mode": "r",
   "file_extension": ".r",
   "mimetype": "text/x-r-source",
   "name": "R",
   "pygments_lexer": "r",
   "version": "4.3.1"
  }
 },
 "nbformat": 4,
 "nbformat_minor": 2
}
