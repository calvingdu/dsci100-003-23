{
 "cells": [
  {
   "cell_type": "markdown",
   "metadata": {},
   "source": [
    "## Classification of Income Being Above or Below/Equal to $50,000 in Adult Census Data\n",
    "\n",
    "By: Sunsar, Sarah, Emily, Calvin (DSCI 100 003 - Group 23)\n",
    "\n",
    "Data is from: https://www.kaggle.com/datasets/uciml/adult-census-income"
   ]
  },
  {
   "cell_type": "markdown",
   "metadata": {},
   "source": [
    "The dataset used for this analysis is derived from the 1994 Census Bureau database. \n",
    "\n",
    "The dataset contains a diverse range of numerical and categorical attributes, such as age, hours worked per week,  sex, and more. In this project, we will filter and simplify some categories from this dataset to predict whether an individual\"s annual salary falls above or below $50,000.\n",
    "\n",
    "The question this project will seek to answer is: \n",
    "\n",
    "**How do different aspects of a person predict whether annual income will be above or below $50K annually?**"
   ]
  },
  {
   "cell_type": "markdown",
   "metadata": {},
   "source": [
    "# Preliminary Exploratory Data Analysis"
   ]
  },
  {
   "cell_type": "code",
   "execution_count": 2,
   "metadata": {
    "vscode": {
     "languageId": "r"
    }
   },
   "outputs": [
    {
     "name": "stderr",
     "output_type": "stream",
     "text": [
      "-- \u001b[1mAttaching core tidyverse packages\u001b[22m ------------------------ tidyverse 2.0.0 --\n",
      "\u001b[32mv\u001b[39m \u001b[34mdplyr    \u001b[39m 1.1.3     \u001b[32mv\u001b[39m \u001b[34mreadr    \u001b[39m 2.1.4\n",
      "\u001b[32mv\u001b[39m \u001b[34mforcats  \u001b[39m 1.0.0     \u001b[32mv\u001b[39m \u001b[34mstringr  \u001b[39m 1.5.0\n",
      "\u001b[32mv\u001b[39m \u001b[34mggplot2  \u001b[39m 3.4.3     \u001b[32mv\u001b[39m \u001b[34mtibble   \u001b[39m 3.2.1\n",
      "\u001b[32mv\u001b[39m \u001b[34mlubridate\u001b[39m 1.9.2     \u001b[32mv\u001b[39m \u001b[34mtidyr    \u001b[39m 1.3.0\n",
      "\u001b[32mv\u001b[39m \u001b[34mpurrr    \u001b[39m 1.0.2     \n",
      "-- \u001b[1mConflicts\u001b[22m ------------------------------------------ tidyverse_conflicts() --\n",
      "\u001b[31mx\u001b[39m \u001b[34mdplyr\u001b[39m::\u001b[32mfilter()\u001b[39m masks \u001b[34mstats\u001b[39m::filter()\n",
      "\u001b[31mx\u001b[39m \u001b[34mdplyr\u001b[39m::\u001b[32mlag()\u001b[39m    masks \u001b[34mstats\u001b[39m::lag()\n",
      "\u001b[36mi\u001b[39m Use the conflicted package (\u001b[3m\u001b[34m<http://conflicted.r-lib.org/>\u001b[39m\u001b[23m) to force all conflicts to become errors\n",
      "-- \u001b[1mAttaching packages\u001b[22m -------------------------------------- tidymodels 1.1.1 --\n",
      "\n",
      "\u001b[32mv\u001b[39m \u001b[34mbroom       \u001b[39m 1.0.5     \u001b[32mv\u001b[39m \u001b[34mrsample     \u001b[39m 1.2.0\n",
      "\u001b[32mv\u001b[39m \u001b[34mdials       \u001b[39m 1.2.0     \u001b[32mv\u001b[39m \u001b[34mtune        \u001b[39m 1.1.2\n",
      "\u001b[32mv\u001b[39m \u001b[34minfer       \u001b[39m 1.0.5     \u001b[32mv\u001b[39m \u001b[34mworkflows   \u001b[39m 1.1.3\n",
      "\u001b[32mv\u001b[39m \u001b[34mmodeldata   \u001b[39m 1.2.0     \u001b[32mv\u001b[39m \u001b[34mworkflowsets\u001b[39m 1.0.1\n",
      "\u001b[32mv\u001b[39m \u001b[34mparsnip     \u001b[39m 1.1.1     \u001b[32mv\u001b[39m \u001b[34myardstick   \u001b[39m 1.2.0\n",
      "\u001b[32mv\u001b[39m \u001b[34mrecipes     \u001b[39m 1.0.8     \n",
      "\n",
      "-- \u001b[1mConflicts\u001b[22m ----------------------------------------- tidymodels_conflicts() --\n",
      "\u001b[31mx\u001b[39m \u001b[34mscales\u001b[39m::\u001b[32mdiscard()\u001b[39m masks \u001b[34mpurrr\u001b[39m::discard()\n",
      "\u001b[31mx\u001b[39m \u001b[34mdplyr\u001b[39m::\u001b[32mfilter()\u001b[39m   masks \u001b[34mstats\u001b[39m::filter()\n",
      "\u001b[31mx\u001b[39m \u001b[34mrecipes\u001b[39m::\u001b[32mfixed()\u001b[39m  masks \u001b[34mstringr\u001b[39m::fixed()\n",
      "\u001b[31mx\u001b[39m \u001b[34mdplyr\u001b[39m::\u001b[32mlag()\u001b[39m      masks \u001b[34mstats\u001b[39m::lag()\n",
      "\u001b[31mx\u001b[39m \u001b[34myardstick\u001b[39m::\u001b[32mspec()\u001b[39m masks \u001b[34mreadr\u001b[39m::spec()\n",
      "\u001b[31mx\u001b[39m \u001b[34mrecipes\u001b[39m::\u001b[32mstep()\u001b[39m   masks \u001b[34mstats\u001b[39m::step()\n",
      "\u001b[34m*\u001b[39m Use suppressPackageStartupMessages() to eliminate package startup messages\n",
      "\n"
     ]
    }
   ],
   "source": [
    "library(tidyverse)\n",
    "library(tidymodels)"
   ]
  },
  {
   "cell_type": "code",
   "execution_count": 3,
   "metadata": {
    "vscode": {
     "languageId": "r"
    }
   },
   "outputs": [
    {
     "name": "stderr",
     "output_type": "stream",
     "text": [
      "\u001b[1mRows: \u001b[22m\u001b[34m32561\u001b[39m \u001b[1mColumns: \u001b[22m\u001b[34m15\u001b[39m\n",
      "\u001b[36m--\u001b[39m \u001b[1mColumn specification\u001b[22m \u001b[36m--------------------------------------------------------\u001b[39m\n",
      "\u001b[1mDelimiter:\u001b[22m \",\"\n",
      "\u001b[31mchr\u001b[39m (9): workclass, education, marital.status, occupation, relationship, rac...\n",
      "\u001b[32mdbl\u001b[39m (6): age, fnlwgt, education.num, capital.gain, capital.loss, hours.per.week\n",
      "\n",
      "\u001b[36mi\u001b[39m Use `spec()` to retrieve the full column specification for this data.\n",
      "\u001b[36mi\u001b[39m Specify the column types or set `show_col_types = FALSE` to quiet this message.\n"
     ]
    },
    {
     "data": {
      "text/html": [
       "'Training set row count: 26048'"
      ],
      "text/latex": [
       "'Training set row count: 26048'"
      ],
      "text/markdown": [
       "'Training set row count: 26048'"
      ],
      "text/plain": [
       "[1] \"Training set row count: 26048\""
      ]
     },
     "metadata": {},
     "output_type": "display_data"
    },
    {
     "data": {
      "text/html": [
       "'Testing set row count: 6513'"
      ],
      "text/latex": [
       "'Testing set row count: 6513'"
      ],
      "text/markdown": [
       "'Testing set row count: 6513'"
      ],
      "text/plain": [
       "[1] \"Testing set row count: 6513\""
      ]
     },
     "metadata": {},
     "output_type": "display_data"
    }
   ],
   "source": [
    "df = read_csv(\"https://raw.githubusercontent.com/calvingdu/dsci100-003-23/master/data/adult_census.csv\")\n",
    "\n",
    "# Splitting the data\n",
    "df_split <- initial_split(df, prop = 0.8, strata = income)\n",
    "df_train <- training(df_split)\n",
    "df_test <- testing(df_split)\n",
    "\n",
    "paste0(\"Training set row count: \", nrow(df_train))\n",
    "paste0(\"Testing set row count: \", nrow(df_test))"
   ]
  },
  {
   "cell_type": "code",
   "execution_count": 4,
   "metadata": {
    "vscode": {
     "languageId": "r"
    }
   },
   "outputs": [
    {
     "data": {
      "text/html": [
       "<table class=\"dataframe\">\n",
       "<caption>A tibble: 6 × 15</caption>\n",
       "<thead>\n",
       "\t<tr><th scope=col>age</th><th scope=col>workclass</th><th scope=col>fnlwgt</th><th scope=col>education</th><th scope=col>education.num</th><th scope=col>marital.status</th><th scope=col>occupation</th><th scope=col>relationship</th><th scope=col>race</th><th scope=col>sex</th><th scope=col>capital.gain</th><th scope=col>capital.loss</th><th scope=col>hours.per.week</th><th scope=col>native.country</th><th scope=col>income</th></tr>\n",
       "\t<tr><th scope=col>&lt;dbl&gt;</th><th scope=col>&lt;chr&gt;</th><th scope=col>&lt;dbl&gt;</th><th scope=col>&lt;chr&gt;</th><th scope=col>&lt;dbl&gt;</th><th scope=col>&lt;chr&gt;</th><th scope=col>&lt;chr&gt;</th><th scope=col>&lt;chr&gt;</th><th scope=col>&lt;chr&gt;</th><th scope=col>&lt;chr&gt;</th><th scope=col>&lt;dbl&gt;</th><th scope=col>&lt;dbl&gt;</th><th scope=col>&lt;dbl&gt;</th><th scope=col>&lt;chr&gt;</th><th scope=col>&lt;chr&gt;</th></tr>\n",
       "</thead>\n",
       "<tbody>\n",
       "\t<tr><td>90</td><td><span style=white-space:pre-wrap>?      </span></td><td> 77053</td><td><span style=white-space:pre-wrap>HS-grad     </span></td><td> 9</td><td><span style=white-space:pre-wrap>Widowed  </span></td><td><span style=white-space:pre-wrap>?                </span></td><td>Not-in-family</td><td>White</td><td>Female</td><td>0</td><td>4356</td><td>40</td><td>United-States</td><td>&lt;=50K</td></tr>\n",
       "\t<tr><td>82</td><td>Private</td><td>132870</td><td><span style=white-space:pre-wrap>HS-grad     </span></td><td> 9</td><td><span style=white-space:pre-wrap>Widowed  </span></td><td><span style=white-space:pre-wrap>Exec-managerial  </span></td><td>Not-in-family</td><td>White</td><td>Female</td><td>0</td><td>4356</td><td>18</td><td>United-States</td><td>&lt;=50K</td></tr>\n",
       "\t<tr><td>66</td><td><span style=white-space:pre-wrap>?      </span></td><td>186061</td><td>Some-college</td><td>10</td><td><span style=white-space:pre-wrap>Widowed  </span></td><td><span style=white-space:pre-wrap>?                </span></td><td><span style=white-space:pre-wrap>Unmarried    </span></td><td>Black</td><td>Female</td><td>0</td><td>4356</td><td>40</td><td>United-States</td><td>&lt;=50K</td></tr>\n",
       "\t<tr><td>54</td><td>Private</td><td>140359</td><td><span style=white-space:pre-wrap>7th-8th     </span></td><td> 4</td><td>Divorced </td><td>Machine-op-inspct</td><td><span style=white-space:pre-wrap>Unmarried    </span></td><td>White</td><td>Female</td><td>0</td><td>3900</td><td>40</td><td>United-States</td><td>&lt;=50K</td></tr>\n",
       "\t<tr><td>41</td><td>Private</td><td>264663</td><td>Some-college</td><td>10</td><td>Separated</td><td><span style=white-space:pre-wrap>Prof-specialty   </span></td><td><span style=white-space:pre-wrap>Own-child    </span></td><td>White</td><td>Female</td><td>0</td><td>3900</td><td>40</td><td>United-States</td><td>&lt;=50K</td></tr>\n",
       "\t<tr><td>34</td><td>Private</td><td>216864</td><td><span style=white-space:pre-wrap>HS-grad     </span></td><td> 9</td><td>Divorced </td><td><span style=white-space:pre-wrap>Other-service    </span></td><td><span style=white-space:pre-wrap>Unmarried    </span></td><td>White</td><td>Female</td><td>0</td><td>3770</td><td>45</td><td>United-States</td><td>&lt;=50K</td></tr>\n",
       "</tbody>\n",
       "</table>\n"
      ],
      "text/latex": [
       "A tibble: 6 × 15\n",
       "\\begin{tabular}{lllllllllllllll}\n",
       " age & workclass & fnlwgt & education & education.num & marital.status & occupation & relationship & race & sex & capital.gain & capital.loss & hours.per.week & native.country & income\\\\\n",
       " <dbl> & <chr> & <dbl> & <chr> & <dbl> & <chr> & <chr> & <chr> & <chr> & <chr> & <dbl> & <dbl> & <dbl> & <chr> & <chr>\\\\\n",
       "\\hline\n",
       "\t 90 & ?       &  77053 & HS-grad      &  9 & Widowed   & ?                 & Not-in-family & White & Female & 0 & 4356 & 40 & United-States & <=50K\\\\\n",
       "\t 82 & Private & 132870 & HS-grad      &  9 & Widowed   & Exec-managerial   & Not-in-family & White & Female & 0 & 4356 & 18 & United-States & <=50K\\\\\n",
       "\t 66 & ?       & 186061 & Some-college & 10 & Widowed   & ?                 & Unmarried     & Black & Female & 0 & 4356 & 40 & United-States & <=50K\\\\\n",
       "\t 54 & Private & 140359 & 7th-8th      &  4 & Divorced  & Machine-op-inspct & Unmarried     & White & Female & 0 & 3900 & 40 & United-States & <=50K\\\\\n",
       "\t 41 & Private & 264663 & Some-college & 10 & Separated & Prof-specialty    & Own-child     & White & Female & 0 & 3900 & 40 & United-States & <=50K\\\\\n",
       "\t 34 & Private & 216864 & HS-grad      &  9 & Divorced  & Other-service     & Unmarried     & White & Female & 0 & 3770 & 45 & United-States & <=50K\\\\\n",
       "\\end{tabular}\n"
      ],
      "text/markdown": [
       "\n",
       "A tibble: 6 × 15\n",
       "\n",
       "| age &lt;dbl&gt; | workclass &lt;chr&gt; | fnlwgt &lt;dbl&gt; | education &lt;chr&gt; | education.num &lt;dbl&gt; | marital.status &lt;chr&gt; | occupation &lt;chr&gt; | relationship &lt;chr&gt; | race &lt;chr&gt; | sex &lt;chr&gt; | capital.gain &lt;dbl&gt; | capital.loss &lt;dbl&gt; | hours.per.week &lt;dbl&gt; | native.country &lt;chr&gt; | income &lt;chr&gt; |\n",
       "|---|---|---|---|---|---|---|---|---|---|---|---|---|---|---|\n",
       "| 90 | ?       |  77053 | HS-grad      |  9 | Widowed   | ?                 | Not-in-family | White | Female | 0 | 4356 | 40 | United-States | &lt;=50K |\n",
       "| 82 | Private | 132870 | HS-grad      |  9 | Widowed   | Exec-managerial   | Not-in-family | White | Female | 0 | 4356 | 18 | United-States | &lt;=50K |\n",
       "| 66 | ?       | 186061 | Some-college | 10 | Widowed   | ?                 | Unmarried     | Black | Female | 0 | 4356 | 40 | United-States | &lt;=50K |\n",
       "| 54 | Private | 140359 | 7th-8th      |  4 | Divorced  | Machine-op-inspct | Unmarried     | White | Female | 0 | 3900 | 40 | United-States | &lt;=50K |\n",
       "| 41 | Private | 264663 | Some-college | 10 | Separated | Prof-specialty    | Own-child     | White | Female | 0 | 3900 | 40 | United-States | &lt;=50K |\n",
       "| 34 | Private | 216864 | HS-grad      |  9 | Divorced  | Other-service     | Unmarried     | White | Female | 0 | 3770 | 45 | United-States | &lt;=50K |\n",
       "\n"
      ],
      "text/plain": [
       "  age workclass fnlwgt education    education.num marital.status\n",
       "1 90  ?          77053 HS-grad       9            Widowed       \n",
       "2 82  Private   132870 HS-grad       9            Widowed       \n",
       "3 66  ?         186061 Some-college 10            Widowed       \n",
       "4 54  Private   140359 7th-8th       4            Divorced      \n",
       "5 41  Private   264663 Some-college 10            Separated     \n",
       "6 34  Private   216864 HS-grad       9            Divorced      \n",
       "  occupation        relationship  race  sex    capital.gain capital.loss\n",
       "1 ?                 Not-in-family White Female 0            4356        \n",
       "2 Exec-managerial   Not-in-family White Female 0            4356        \n",
       "3 ?                 Unmarried     Black Female 0            4356        \n",
       "4 Machine-op-inspct Unmarried     White Female 0            3900        \n",
       "5 Prof-specialty    Own-child     White Female 0            3900        \n",
       "6 Other-service     Unmarried     White Female 0            3770        \n",
       "  hours.per.week native.country income\n",
       "1 40             United-States  <=50K \n",
       "2 18             United-States  <=50K \n",
       "3 40             United-States  <=50K \n",
       "4 40             United-States  <=50K \n",
       "5 40             United-States  <=50K \n",
       "6 45             United-States  <=50K "
      ]
     },
     "metadata": {},
     "output_type": "display_data"
    }
   ],
   "source": [
    "head(df_train)"
   ]
  },
  {
   "cell_type": "markdown",
   "metadata": {},
   "source": [
    "# Tidying/Cleaning The Data & Selecting Columns\n",
    "We can begin by tidying up the data. Something we noticed immediately that there are a lot of categorical columns. To tackle this, we plan to make buckets of categories and then turn them into dummy variables. For example, we can turn __sex__ into a dummy variable where 0 = male and 1 = female, make dummy variables by bucketting different things such as paid/unpaid in __workclass__, or making a dummy variable for every unique value. \n",
    "\n",
    "These are the columns we plan to use and how we plan to tackle them to make them usable in data: \n",
    "- **Age**: No changes (either than scaling/imputation)\n",
    "- **Workclass**: Make a dummy variable for paid/unpaid\n",
    "- **Education**: Simplified to a dummy variable of if College Graduate or Not\n",
    "- **Occupation**: Make a dummy variable for all the occupations\n",
    "- **Relationship**: Simplified a dummy variable of Married or Not\n",
    "- **Sex**: Transformed into a Dummy Variable\n",
    "- **Capital Gain**: No changes (either than scaling/imputation)\n",
    "- **Capital Loss**: No changes (either than scaling/imputation)\n",
    "- **Hours Per Week**: No changes (either than scaling/imputation)\n",
    "- **Native Country**: Evaluate what country has the most people with income > 50k and then make a dummy variable for being in this country or not \n",
    "\n",
    "**Dropped Columns & Reasoning**: \n",
    "- fnlwgt: Unclear how this relates\n",
    "- education.num: Already have education\n",
    "- race: Don\"t believe this is significant to the study so removing to avoid overfitting \n",
    "- marital.status: We think it\"s similar to relationship so we remove to avoid overfitting \n"
   ]
  },
  {
   "cell_type": "markdown",
   "metadata": {},
   "source": [
    "This is also some tidying to do. We can initially see that there are some missing values in __workclass__ and __occupation__ represented as ?. Since we believe these are extremely important roles to guess income category, we remove any rows that don't have data for this. "
   ]
  },
  {
   "cell_type": "code",
   "execution_count": 5,
   "metadata": {
    "vscode": {
     "languageId": "r"
    }
   },
   "outputs": [],
   "source": [
    "filtered_df <- df_train |>\n",
    "  select(age, workclass, education, occupation, relationship, sex,\n",
    "         capital.gain, capital.loss, hours.per.week, native.country, income) |>\n",
    "  filter(workclass != \"?\" & occupation != \"?\")"
   ]
  },
  {
   "cell_type": "markdown",
   "metadata": {},
   "source": [
    "Then, we can begin by making dummy variables in the data using the above choices. Alongside the code to mutate the dataframes, we will also show the unique data and verification of our dummy variables."
   ]
  },
  {
   "cell_type": "markdown",
   "metadata": {},
   "source": [
    "### Binary Preprocessing"
   ]
  },
  {
   "cell_type": "markdown",
   "metadata": {},
   "source": [
    "Our initital thought for native country is that since the U.S probably has the most people with income >= 50k by a large margin. Therefore we wanted to simplify this variable to be a dummy variable of American vs not. This is how we verified our conclusion with code:"
   ]
  },
  {
   "cell_type": "code",
   "execution_count": 16,
   "metadata": {
    "vscode": {
     "languageId": "r"
    }
   },
   "outputs": [
    {
     "data": {
      "text/html": [
       "<table class=\"dataframe\">\n",
       "<caption>A tibble: 6 × 4</caption>\n",
       "<thead>\n",
       "\t<tr><th scope=col>native.country</th><th scope=col>rich</th><th scope=col>total_count</th><th scope=col>rich_proportion</th></tr>\n",
       "\t<tr><th scope=col>&lt;chr&gt;</th><th scope=col>&lt;int&gt;</th><th scope=col>&lt;int&gt;</th><th scope=col>&lt;dbl&gt;</th></tr>\n",
       "</thead>\n",
       "<tbody>\n",
       "\t<tr><td>United-States</td><td>16431</td><td>18431</td><td>0.891487168</td></tr>\n",
       "\t<tr><td>Mexico       </td><td>  447</td><td>18431</td><td>0.024252618</td></tr>\n",
       "\t<tr><td>?            </td><td>  330</td><td>18431</td><td>0.017904617</td></tr>\n",
       "\t<tr><td>Philippines  </td><td>   94</td><td>18431</td><td>0.005100103</td></tr>\n",
       "\t<tr><td>Puerto-Rico  </td><td>   83</td><td>18431</td><td>0.004503283</td></tr>\n",
       "\t<tr><td>El-Salvador  </td><td>   68</td><td>18431</td><td>0.003689436</td></tr>\n",
       "</tbody>\n",
       "</table>\n"
      ],
      "text/latex": [
       "A tibble: 6 × 4\n",
       "\\begin{tabular}{llll}\n",
       " native.country & rich & total\\_count & rich\\_proportion\\\\\n",
       " <chr> & <int> & <int> & <dbl>\\\\\n",
       "\\hline\n",
       "\t United-States & 16431 & 18431 & 0.891487168\\\\\n",
       "\t Mexico        &   447 & 18431 & 0.024252618\\\\\n",
       "\t ?             &   330 & 18431 & 0.017904617\\\\\n",
       "\t Philippines   &    94 & 18431 & 0.005100103\\\\\n",
       "\t Puerto-Rico   &    83 & 18431 & 0.004503283\\\\\n",
       "\t El-Salvador   &    68 & 18431 & 0.003689436\\\\\n",
       "\\end{tabular}\n"
      ],
      "text/markdown": [
       "\n",
       "A tibble: 6 × 4\n",
       "\n",
       "| native.country &lt;chr&gt; | rich &lt;int&gt; | total_count &lt;int&gt; | rich_proportion &lt;dbl&gt; |\n",
       "|---|---|---|---|\n",
       "| United-States | 16431 | 18431 | 0.891487168 |\n",
       "| Mexico        |   447 | 18431 | 0.024252618 |\n",
       "| ?             |   330 | 18431 | 0.017904617 |\n",
       "| Philippines   |    94 | 18431 | 0.005100103 |\n",
       "| Puerto-Rico   |    83 | 18431 | 0.004503283 |\n",
       "| El-Salvador   |    68 | 18431 | 0.003689436 |\n",
       "\n"
      ],
      "text/plain": [
       "  native.country rich  total_count rich_proportion\n",
       "1 United-States  16431 18431       0.891487168    \n",
       "2 Mexico           447 18431       0.024252618    \n",
       "3 ?                330 18431       0.017904617    \n",
       "4 Philippines       94 18431       0.005100103    \n",
       "5 Puerto-Rico       83 18431       0.004503283    \n",
       "6 El-Salvador       68 18431       0.003689436    "
      ]
     },
     "metadata": {},
     "output_type": "display_data"
    }
   ],
   "source": [
    "descending_df <- filtered_df %>%\n",
    "  filter(income == \"<=50K\") %>% \n",
    "  group_by(native.country) %>%\n",
    "  summarize(rich = n()) %>%\n",
    "  ungroup() %>%\n",
    "  mutate(total_count = sum(rich)) %>%\n",
    "  mutate(rich_proportion = rich / total_count) %>%\n",
    "  arrange(desc(rich_proportion))\n",
    "\n",
    "head(descending_df)"
   ]
  },
  {
   "cell_type": "markdown",
   "metadata": {},
   "source": [
    "To make the dummy variables:"
   ]
  },
  {
   "cell_type": "code",
   "execution_count": null,
   "metadata": {
    "vscode": {
     "languageId": "r"
    }
   },
   "outputs": [
    {
     "data": {
      "text/html": [
       "'Relationship: c(\"Not-in-family\", \"Own-child\", \"Unmarried\", \"Husband\", \"Wife\", \"Other-relative\")'"
      ],
      "text/latex": [
       "'Relationship: c(\"Not-in-family\", \"Own-child\", \"Unmarried\", \"Husband\", \"Wife\", \"Other-relative\")'"
      ],
      "text/markdown": [
       "'Relationship: c(\"Not-in-family\", \"Own-child\", \"Unmarried\", \"Husband\", \"Wife\", \"Other-relative\")'"
      ],
      "text/plain": [
       "[1] \"Relationship: c(\\\"Not-in-family\\\", \\\"Own-child\\\", \\\"Unmarried\\\", \\\"Husband\\\", \\\"Wife\\\", \\\"Other-relative\\\")\""
      ]
     },
     "metadata": {},
     "output_type": "display_data"
    },
    {
     "data": {
      "text/html": [
       "'Sex: c(\"Female\", \"Male\")'"
      ],
      "text/latex": [
       "'Sex: c(\"Female\", \"Male\")'"
      ],
      "text/markdown": [
       "'Sex: c(\"Female\", \"Male\")'"
      ],
      "text/plain": [
       "[1] \"Sex: c(\\\"Female\\\", \\\"Male\\\")\""
      ]
     },
     "metadata": {},
     "output_type": "display_data"
    },
    {
     "data": {
      "text/html": [
       "'Workclass: c(\"Private\", \"Self-emp-not-inc\", \"Local-gov\", \"Self-emp-inc\", \"State-gov\", \"Federal-gov\", \"Without-pay\")'"
      ],
      "text/latex": [
       "'Workclass: c(\"Private\", \"Self-emp-not-inc\", \"Local-gov\", \"Self-emp-inc\", \"State-gov\", \"Federal-gov\", \"Without-pay\")'"
      ],
      "text/markdown": [
       "'Workclass: c(\"Private\", \"Self-emp-not-inc\", \"Local-gov\", \"Self-emp-inc\", \"State-gov\", \"Federal-gov\", \"Without-pay\")'"
      ],
      "text/plain": [
       "[1] \"Workclass: c(\\\"Private\\\", \\\"Self-emp-not-inc\\\", \\\"Local-gov\\\", \\\"Self-emp-inc\\\", \\\"State-gov\\\", \\\"Federal-gov\\\", \\\"Without-pay\\\")\""
      ]
     },
     "metadata": {},
     "output_type": "display_data"
    },
    {
     "data": {
      "text/html": [
       "'Country: c(\"United-States\", \"Mexico\", \"Greece\", \"Vietnam\", \"?\", \"Trinadad&amp;Tobago\", \"Canada\", \"South\", \"Holand-Netherlands\", \"Philippines\", \"China\", \"Poland\", \"Iran\", \"England\", \"Cambodia\", \"Dominican-Republic\", \"Hungary\", \"Puerto-Rico\", \"Japan\", \"El-Salvador\", \"Nicaragua\", \"India\", \"Haiti\", \"Cuba\", \"Germany\", \"Ireland\", \"Portugal\", \"Columbia\", \"Guatemala\", \"Italy\", \"Ecuador\", \"Laos\", \"France\", \"Taiwan\", \"Peru\", \"Jamaica\", \"Honduras\", \"Yugoslavia\", \"Thailand\", \"Outlying-US(Guam-USVI-etc)\", \"Hong\", \"Scotland\"\\n)'"
      ],
      "text/latex": [
       "'Country: c(\"United-States\", \"Mexico\", \"Greece\", \"Vietnam\", \"?\", \"Trinadad\\&Tobago\", \"Canada\", \"South\", \"Holand-Netherlands\", \"Philippines\", \"China\", \"Poland\", \"Iran\", \"England\", \"Cambodia\", \"Dominican-Republic\", \"Hungary\", \"Puerto-Rico\", \"Japan\", \"El-Salvador\", \"Nicaragua\", \"India\", \"Haiti\", \"Cuba\", \"Germany\", \"Ireland\", \"Portugal\", \"Columbia\", \"Guatemala\", \"Italy\", \"Ecuador\", \"Laos\", \"France\", \"Taiwan\", \"Peru\", \"Jamaica\", \"Honduras\", \"Yugoslavia\", \"Thailand\", \"Outlying-US(Guam-USVI-etc)\", \"Hong\", \"Scotland\"\\textbackslash{}n)'"
      ],
      "text/markdown": [
       "'Country: c(\"United-States\", \"Mexico\", \"Greece\", \"Vietnam\", \"?\", \"Trinadad&amp;Tobago\", \"Canada\", \"South\", \"Holand-Netherlands\", \"Philippines\", \"China\", \"Poland\", \"Iran\", \"England\", \"Cambodia\", \"Dominican-Republic\", \"Hungary\", \"Puerto-Rico\", \"Japan\", \"El-Salvador\", \"Nicaragua\", \"India\", \"Haiti\", \"Cuba\", \"Germany\", \"Ireland\", \"Portugal\", \"Columbia\", \"Guatemala\", \"Italy\", \"Ecuador\", \"Laos\", \"France\", \"Taiwan\", \"Peru\", \"Jamaica\", \"Honduras\", \"Yugoslavia\", \"Thailand\", \"Outlying-US(Guam-USVI-etc)\", \"Hong\", \"Scotland\"\\n)'"
      ],
      "text/plain": [
       "[1] \"Country: c(\\\"United-States\\\", \\\"Mexico\\\", \\\"Greece\\\", \\\"Vietnam\\\", \\\"?\\\", \\\"Trinadad&Tobago\\\", \\\"Canada\\\", \\\"South\\\", \\\"Holand-Netherlands\\\", \\\"Philippines\\\", \\\"China\\\", \\\"Poland\\\", \\\"Iran\\\", \\\"England\\\", \\\"Cambodia\\\", \\\"Dominican-Republic\\\", \\\"Hungary\\\", \\\"Puerto-Rico\\\", \\\"Japan\\\", \\\"El-Salvador\\\", \\\"Nicaragua\\\", \\\"India\\\", \\\"Haiti\\\", \\\"Cuba\\\", \\\"Germany\\\", \\\"Ireland\\\", \\\"Portugal\\\", \\\"Columbia\\\", \\\"Guatemala\\\", \\\"Italy\\\", \\\"Ecuador\\\", \\\"Laos\\\", \\\"France\\\", \\\"Taiwan\\\", \\\"Peru\\\", \\\"Jamaica\\\", \\\"Honduras\\\", \\\"Yugoslavia\\\", \\\"Thailand\\\", \\\"Outlying-US(Guam-USVI-etc)\\\", \\\"Hong\\\", \\\"Scotland\\\"\\n)\""
      ]
     },
     "metadata": {},
     "output_type": "display_data"
    },
    {
     "data": {
      "text/html": [
       "<table class=\"dataframe\">\n",
       "<caption>A tibble: 11 × 8</caption>\n",
       "<thead>\n",
       "\t<tr><th scope=col>relationship</th><th scope=col>is_married</th><th scope=col>sex</th><th scope=col>sex_dummy</th><th scope=col>workclass</th><th scope=col>being_paid</th><th scope=col>native.country</th><th scope=col>is_american</th></tr>\n",
       "\t<tr><th scope=col>&lt;chr&gt;</th><th scope=col>&lt;dbl&gt;</th><th scope=col>&lt;chr&gt;</th><th scope=col>&lt;dbl&gt;</th><th scope=col>&lt;chr&gt;</th><th scope=col>&lt;dbl&gt;</th><th scope=col>&lt;chr&gt;</th><th scope=col>&lt;dbl&gt;</th></tr>\n",
       "</thead>\n",
       "<tbody>\n",
       "\t<tr><td>Husband      </td><td>1</td><td>Male  </td><td>0</td><td>Private         </td><td>1</td><td>United-States</td><td>1</td></tr>\n",
       "\t<tr><td>Husband      </td><td>1</td><td>Male  </td><td>0</td><td>Self-emp-not-inc</td><td>0</td><td>United-States</td><td>1</td></tr>\n",
       "\t<tr><td>Husband      </td><td>1</td><td>Male  </td><td>0</td><td>Self-emp-inc    </td><td>1</td><td>United-States</td><td>1</td></tr>\n",
       "\t<tr><td>Not-in-family</td><td>0</td><td>Female</td><td>1</td><td>Private         </td><td>1</td><td>United-States</td><td>1</td></tr>\n",
       "\t<tr><td>Not-in-family</td><td>0</td><td>Male  </td><td>0</td><td>Local-gov       </td><td>1</td><td>United-States</td><td>1</td></tr>\n",
       "\t<tr><td>Unmarried    </td><td>0</td><td>Male  </td><td>0</td><td>Local-gov       </td><td>1</td><td>United-States</td><td>1</td></tr>\n",
       "\t<tr><td>Not-in-family</td><td>0</td><td>Male  </td><td>0</td><td>Private         </td><td>1</td><td>United-States</td><td>1</td></tr>\n",
       "\t<tr><td>Not-in-family</td><td>0</td><td>Female</td><td>1</td><td>State-gov       </td><td>1</td><td>United-States</td><td>1</td></tr>\n",
       "\t<tr><td>Not-in-family</td><td>0</td><td>Male  </td><td>0</td><td>Self-emp-inc    </td><td>1</td><td>United-States</td><td>1</td></tr>\n",
       "\t<tr><td>Not-in-family</td><td>0</td><td>Male  </td><td>0</td><td>Private         </td><td>1</td><td>?            </td><td>0</td></tr>\n",
       "\t<tr><td>Own-child    </td><td>0</td><td>Female</td><td>1</td><td>Private         </td><td>1</td><td>United-States</td><td>1</td></tr>\n",
       "</tbody>\n",
       "</table>\n"
      ],
      "text/latex": [
       "A tibble: 11 × 8\n",
       "\\begin{tabular}{llllllll}\n",
       " relationship & is\\_married & sex & sex\\_dummy & workclass & being\\_paid & native.country & is\\_american\\\\\n",
       " <chr> & <dbl> & <chr> & <dbl> & <chr> & <dbl> & <chr> & <dbl>\\\\\n",
       "\\hline\n",
       "\t Husband       & 1 & Male   & 0 & Private          & 1 & United-States & 1\\\\\n",
       "\t Husband       & 1 & Male   & 0 & Self-emp-not-inc & 0 & United-States & 1\\\\\n",
       "\t Husband       & 1 & Male   & 0 & Self-emp-inc     & 1 & United-States & 1\\\\\n",
       "\t Not-in-family & 0 & Female & 1 & Private          & 1 & United-States & 1\\\\\n",
       "\t Not-in-family & 0 & Male   & 0 & Local-gov        & 1 & United-States & 1\\\\\n",
       "\t Unmarried     & 0 & Male   & 0 & Local-gov        & 1 & United-States & 1\\\\\n",
       "\t Not-in-family & 0 & Male   & 0 & Private          & 1 & United-States & 1\\\\\n",
       "\t Not-in-family & 0 & Female & 1 & State-gov        & 1 & United-States & 1\\\\\n",
       "\t Not-in-family & 0 & Male   & 0 & Self-emp-inc     & 1 & United-States & 1\\\\\n",
       "\t Not-in-family & 0 & Male   & 0 & Private          & 1 & ?             & 0\\\\\n",
       "\t Own-child     & 0 & Female & 1 & Private          & 1 & United-States & 1\\\\\n",
       "\\end{tabular}\n"
      ],
      "text/markdown": [
       "\n",
       "A tibble: 11 × 8\n",
       "\n",
       "| relationship &lt;chr&gt; | is_married &lt;dbl&gt; | sex &lt;chr&gt; | sex_dummy &lt;dbl&gt; | workclass &lt;chr&gt; | being_paid &lt;dbl&gt; | native.country &lt;chr&gt; | is_american &lt;dbl&gt; |\n",
       "|---|---|---|---|---|---|---|---|\n",
       "| Husband       | 1 | Male   | 0 | Private          | 1 | United-States | 1 |\n",
       "| Husband       | 1 | Male   | 0 | Self-emp-not-inc | 0 | United-States | 1 |\n",
       "| Husband       | 1 | Male   | 0 | Self-emp-inc     | 1 | United-States | 1 |\n",
       "| Not-in-family | 0 | Female | 1 | Private          | 1 | United-States | 1 |\n",
       "| Not-in-family | 0 | Male   | 0 | Local-gov        | 1 | United-States | 1 |\n",
       "| Unmarried     | 0 | Male   | 0 | Local-gov        | 1 | United-States | 1 |\n",
       "| Not-in-family | 0 | Male   | 0 | Private          | 1 | United-States | 1 |\n",
       "| Not-in-family | 0 | Female | 1 | State-gov        | 1 | United-States | 1 |\n",
       "| Not-in-family | 0 | Male   | 0 | Self-emp-inc     | 1 | United-States | 1 |\n",
       "| Not-in-family | 0 | Male   | 0 | Private          | 1 | ?             | 0 |\n",
       "| Own-child     | 0 | Female | 1 | Private          | 1 | United-States | 1 |\n",
       "\n"
      ],
      "text/plain": [
       "   relationship  is_married sex    sex_dummy workclass        being_paid\n",
       "1  Husband       1          Male   0         Private          1         \n",
       "2  Husband       1          Male   0         Self-emp-not-inc 0         \n",
       "3  Husband       1          Male   0         Self-emp-inc     1         \n",
       "4  Not-in-family 0          Female 1         Private          1         \n",
       "5  Not-in-family 0          Male   0         Local-gov        1         \n",
       "6  Unmarried     0          Male   0         Local-gov        1         \n",
       "7  Not-in-family 0          Male   0         Private          1         \n",
       "8  Not-in-family 0          Female 1         State-gov        1         \n",
       "9  Not-in-family 0          Male   0         Self-emp-inc     1         \n",
       "10 Not-in-family 0          Male   0         Private          1         \n",
       "11 Own-child     0          Female 1         Private          1         \n",
       "   native.country is_american\n",
       "1  United-States  1          \n",
       "2  United-States  1          \n",
       "3  United-States  1          \n",
       "4  United-States  1          \n",
       "5  United-States  1          \n",
       "6  United-States  1          \n",
       "7  United-States  1          \n",
       "8  United-States  1          \n",
       "9  United-States  1          \n",
       "10 ?              0          \n",
       "11 United-States  1          "
      ]
     },
     "metadata": {},
     "output_type": "display_data"
    }
   ],
   "source": [
    "paste0(\"Relationship: \", list(unique(filtered_df$relationship)))\n",
    "paste0(\"Sex: \", list(unique(filtered_df$sex)))\n",
    "paste0(\"Workclass: \", list(unique(filtered_df$workclass)))\n",
    "paste0(\"Country: \", list(unique(filtered_df$native.country)))\n",
    "\n",
    "# Making a function to be used later on testing data \n",
    "preprocess_binary <- function(df){\n",
    "    transformed_df <- df |>\n",
    "        mutate(is_married = ifelse((relationship == \"Husband\" | relationship == \"Wife\" |relationship == \"Wife\"),1,0)) |>\n",
    "        mutate(sex_dummy = ifelse(sex == \"Female\", 1, 0)) |>\n",
    "        mutate(being_paid = ifelse(workclass != \"Self-emp-not-inc\" & workclass != \"Without-pay\" & workclass != \"Never-worked\", 1, 0)) |>\n",
    "        mutate(is_american = ifelse(native.country == \"United-States\", 1, 0))\n",
    "    return(transformed_df)\n",
    "}\n",
    "\n",
    "binary_df <- preprocess_binary(filtered_df)\n",
    "binary_df |> \n",
    "    select(relationship, is_married, sex, sex_dummy, workclass, being_paid, native.country, is_american) |>\n",
    "    slice(20:30)"
   ]
  },
  {
   "cell_type": "markdown",
   "metadata": {},
   "source": [
    "### Dummy Variables for Every Occupation\n",
    "Since occupations are in buckets already, we can make a dummy variable for all of them"
   ]
  },
  {
   "cell_type": "code",
   "execution_count": null,
   "metadata": {
    "vscode": {
     "languageId": "r"
    }
   },
   "outputs": [
    {
     "data": {
      "text/html": [
       "'Occupations: c(\"Exec-managerial\", \"Prof-specialty\", \"Other-service\", \"Adm-clerical\", \"Sales\", \"Transport-moving\", \"Craft-repair\", \"Farming-fishing\", \"Handlers-cleaners\", \"Machine-op-inspct\", \"Protective-serv\", \"Tech-support\", \"Priv-house-serv\", \"Armed-Forces\")'"
      ],
      "text/latex": [
       "'Occupations: c(\"Exec-managerial\", \"Prof-specialty\", \"Other-service\", \"Adm-clerical\", \"Sales\", \"Transport-moving\", \"Craft-repair\", \"Farming-fishing\", \"Handlers-cleaners\", \"Machine-op-inspct\", \"Protective-serv\", \"Tech-support\", \"Priv-house-serv\", \"Armed-Forces\")'"
      ],
      "text/markdown": [
       "'Occupations: c(\"Exec-managerial\", \"Prof-specialty\", \"Other-service\", \"Adm-clerical\", \"Sales\", \"Transport-moving\", \"Craft-repair\", \"Farming-fishing\", \"Handlers-cleaners\", \"Machine-op-inspct\", \"Protective-serv\", \"Tech-support\", \"Priv-house-serv\", \"Armed-Forces\")'"
      ],
      "text/plain": [
       "[1] \"Occupations: c(\\\"Exec-managerial\\\", \\\"Prof-specialty\\\", \\\"Other-service\\\", \\\"Adm-clerical\\\", \\\"Sales\\\", \\\"Transport-moving\\\", \\\"Craft-repair\\\", \\\"Farming-fishing\\\", \\\"Handlers-cleaners\\\", \\\"Machine-op-inspct\\\", \\\"Protective-serv\\\", \\\"Tech-support\\\", \\\"Priv-house-serv\\\", \\\"Armed-Forces\\\")\""
      ]
     },
     "metadata": {},
     "output_type": "display_data"
    },
    {
     "data": {
      "text/html": [
       "<table class=\"dataframe\">\n",
       "<caption>A tibble: 5 × 15</caption>\n",
       "<thead>\n",
       "\t<tr><th scope=col>occupation</th><th scope=col>income</th><th scope=col>is_married</th><th scope=col>sex_dummy</th><th scope=col>being_paid</th><th scope=col>is_american</th><th scope=col>exec.managerial</th><th scope=col>prof.specialty</th><th scope=col>other.service</th><th scope=col>adm.clerical</th><th scope=col>sales</th><th scope=col>transport.moving</th><th scope=col>craft.repair</th><th scope=col>farming.fishing</th><th scope=col>handlers.cleaners</th></tr>\n",
       "\t<tr><th scope=col>&lt;chr&gt;</th><th scope=col>&lt;chr&gt;</th><th scope=col>&lt;dbl&gt;</th><th scope=col>&lt;dbl&gt;</th><th scope=col>&lt;dbl&gt;</th><th scope=col>&lt;dbl&gt;</th><th scope=col>&lt;int&gt;</th><th scope=col>&lt;int&gt;</th><th scope=col>&lt;int&gt;</th><th scope=col>&lt;int&gt;</th><th scope=col>&lt;int&gt;</th><th scope=col>&lt;int&gt;</th><th scope=col>&lt;int&gt;</th><th scope=col>&lt;int&gt;</th><th scope=col>&lt;int&gt;</th></tr>\n",
       "</thead>\n",
       "<tbody>\n",
       "\t<tr><td>Exec-managerial</td><td>&lt;=50K</td><td>0</td><td>1</td><td>1</td><td>1</td><td>1</td><td>0</td><td>0</td><td>0</td><td>0</td><td>0</td><td>0</td><td>0</td><td>0</td></tr>\n",
       "\t<tr><td>Prof-specialty </td><td>&lt;=50K</td><td>0</td><td>1</td><td>1</td><td>1</td><td>0</td><td>1</td><td>0</td><td>0</td><td>0</td><td>0</td><td>0</td><td>0</td><td>0</td></tr>\n",
       "\t<tr><td><span style=white-space:pre-wrap>Other-service  </span></td><td>&lt;=50K</td><td>0</td><td>1</td><td>1</td><td>1</td><td>0</td><td>0</td><td>1</td><td>0</td><td>0</td><td>0</td><td>0</td><td>0</td><td>0</td></tr>\n",
       "\t<tr><td><span style=white-space:pre-wrap>Adm-clerical   </span></td><td>&lt;=50K</td><td>0</td><td>0</td><td>1</td><td>1</td><td>0</td><td>0</td><td>0</td><td>1</td><td>0</td><td>0</td><td>0</td><td>0</td><td>0</td></tr>\n",
       "\t<tr><td><span style=white-space:pre-wrap>Sales          </span></td><td>&lt;=50K</td><td>0</td><td>1</td><td>1</td><td>1</td><td>0</td><td>0</td><td>0</td><td>0</td><td>1</td><td>0</td><td>0</td><td>0</td><td>0</td></tr>\n",
       "</tbody>\n",
       "</table>\n"
      ],
      "text/latex": [
       "A tibble: 5 × 15\n",
       "\\begin{tabular}{lllllllllllllll}\n",
       " occupation & income & is\\_married & sex\\_dummy & being\\_paid & is\\_american & exec.managerial & prof.specialty & other.service & adm.clerical & sales & transport.moving & craft.repair & farming.fishing & handlers.cleaners\\\\\n",
       " <chr> & <chr> & <dbl> & <dbl> & <dbl> & <dbl> & <int> & <int> & <int> & <int> & <int> & <int> & <int> & <int> & <int>\\\\\n",
       "\\hline\n",
       "\t Exec-managerial & <=50K & 0 & 1 & 1 & 1 & 1 & 0 & 0 & 0 & 0 & 0 & 0 & 0 & 0\\\\\n",
       "\t Prof-specialty  & <=50K & 0 & 1 & 1 & 1 & 0 & 1 & 0 & 0 & 0 & 0 & 0 & 0 & 0\\\\\n",
       "\t Other-service   & <=50K & 0 & 1 & 1 & 1 & 0 & 0 & 1 & 0 & 0 & 0 & 0 & 0 & 0\\\\\n",
       "\t Adm-clerical    & <=50K & 0 & 0 & 1 & 1 & 0 & 0 & 0 & 1 & 0 & 0 & 0 & 0 & 0\\\\\n",
       "\t Sales           & <=50K & 0 & 1 & 1 & 1 & 0 & 0 & 0 & 0 & 1 & 0 & 0 & 0 & 0\\\\\n",
       "\\end{tabular}\n"
      ],
      "text/markdown": [
       "\n",
       "A tibble: 5 × 15\n",
       "\n",
       "| occupation &lt;chr&gt; | income &lt;chr&gt; | is_married &lt;dbl&gt; | sex_dummy &lt;dbl&gt; | being_paid &lt;dbl&gt; | is_american &lt;dbl&gt; | exec.managerial &lt;int&gt; | prof.specialty &lt;int&gt; | other.service &lt;int&gt; | adm.clerical &lt;int&gt; | sales &lt;int&gt; | transport.moving &lt;int&gt; | craft.repair &lt;int&gt; | farming.fishing &lt;int&gt; | handlers.cleaners &lt;int&gt; |\n",
       "|---|---|---|---|---|---|---|---|---|---|---|---|---|---|---|\n",
       "| Exec-managerial | &lt;=50K | 0 | 1 | 1 | 1 | 1 | 0 | 0 | 0 | 0 | 0 | 0 | 0 | 0 |\n",
       "| Prof-specialty  | &lt;=50K | 0 | 1 | 1 | 1 | 0 | 1 | 0 | 0 | 0 | 0 | 0 | 0 | 0 |\n",
       "| Other-service   | &lt;=50K | 0 | 1 | 1 | 1 | 0 | 0 | 1 | 0 | 0 | 0 | 0 | 0 | 0 |\n",
       "| Adm-clerical    | &lt;=50K | 0 | 0 | 1 | 1 | 0 | 0 | 0 | 1 | 0 | 0 | 0 | 0 | 0 |\n",
       "| Sales           | &lt;=50K | 0 | 1 | 1 | 1 | 0 | 0 | 0 | 0 | 1 | 0 | 0 | 0 | 0 |\n",
       "\n"
      ],
      "text/plain": [
       "  occupation      income is_married sex_dummy being_paid is_american\n",
       "1 Exec-managerial <=50K  0          1         1          1          \n",
       "2 Prof-specialty  <=50K  0          1         1          1          \n",
       "3 Other-service   <=50K  0          1         1          1          \n",
       "4 Adm-clerical    <=50K  0          0         1          1          \n",
       "5 Sales           <=50K  0          1         1          1          \n",
       "  exec.managerial prof.specialty other.service adm.clerical sales\n",
       "1 1               0              0             0            0    \n",
       "2 0               1              0             0            0    \n",
       "3 0               0              1             0            0    \n",
       "4 0               0              0             1            0    \n",
       "5 0               0              0             0            1    \n",
       "  transport.moving craft.repair farming.fishing handlers.cleaners\n",
       "1 0                0            0               0                \n",
       "2 0                0            0               0                \n",
       "3 0                0            0               0                \n",
       "4 0                0            0               0                \n",
       "5 0                0            0               0                "
      ]
     },
     "metadata": {},
     "output_type": "display_data"
    }
   ],
   "source": [
    "# Making a function to use later\n",
    "unique_occupations <- as.list(unique(binary_df$occupation))\n",
    "paste0(\"Occupations: \", list(unique(binary_df$occupation)))\n",
    "\n",
    "preprocess_occupation <- function(df, occupations){\n",
    "    for (occ in occupations) {\n",
    "        col_name <- gsub(\"[^a-zA-Z0-9 ]\", \".\", tolower(occ))\n",
    "        df[[col_name]] <- as.integer(df$occupation == occ)\n",
    "    }\n",
    "    return(df)\n",
    "}\n",
    "\n",
    "occupations_df <- preprocess_occupation(binary_df, unique_occupations) \n",
    "\n",
    "occupations_df[, c(which(names(occupations_df) == 'occupation'), tail(seq_along(processed_df), length(unique_occupations)))] |>\n",
    "head(5)"
   ]
  },
  {
   "cell_type": "markdown",
   "metadata": {},
   "source": [
    "Keeping only dummy variables:"
   ]
  },
  {
   "cell_type": "code",
   "execution_count": null,
   "metadata": {
    "vscode": {
     "languageId": "r"
    }
   },
   "outputs": [
    {
     "data": {
      "text/html": [
       "<table class=\"dataframe\">\n",
       "<caption>A tibble: 3 × 24</caption>\n",
       "<thead>\n",
       "\t<tr><th scope=col>age</th><th scope=col>capital.gain</th><th scope=col>capital.loss</th><th scope=col>hours.per.week</th><th scope=col>native.country</th><th scope=col>income</th><th scope=col>is_married</th><th scope=col>sex_dummy</th><th scope=col>being_paid</th><th scope=col>is_american</th><th scope=col>...</th><th scope=col>sales</th><th scope=col>transport.moving</th><th scope=col>craft.repair</th><th scope=col>farming.fishing</th><th scope=col>handlers.cleaners</th><th scope=col>machine.op.inspct</th><th scope=col>protective.serv</th><th scope=col>tech.support</th><th scope=col>priv.house.serv</th><th scope=col>armed.forces</th></tr>\n",
       "\t<tr><th scope=col>&lt;dbl&gt;</th><th scope=col>&lt;dbl&gt;</th><th scope=col>&lt;dbl&gt;</th><th scope=col>&lt;dbl&gt;</th><th scope=col>&lt;chr&gt;</th><th scope=col>&lt;chr&gt;</th><th scope=col>&lt;dbl&gt;</th><th scope=col>&lt;dbl&gt;</th><th scope=col>&lt;dbl&gt;</th><th scope=col>&lt;dbl&gt;</th><th scope=col>...</th><th scope=col>&lt;int&gt;</th><th scope=col>&lt;int&gt;</th><th scope=col>&lt;int&gt;</th><th scope=col>&lt;int&gt;</th><th scope=col>&lt;int&gt;</th><th scope=col>&lt;int&gt;</th><th scope=col>&lt;int&gt;</th><th scope=col>&lt;int&gt;</th><th scope=col>&lt;int&gt;</th><th scope=col>&lt;int&gt;</th></tr>\n",
       "</thead>\n",
       "<tbody>\n",
       "\t<tr><td>82</td><td>0</td><td>4356</td><td>18</td><td>United-States</td><td>&lt;=50K</td><td>0</td><td>1</td><td>1</td><td>1</td><td>...</td><td>0</td><td>0</td><td>0</td><td>0</td><td>0</td><td>0</td><td>0</td><td>0</td><td>0</td><td>0</td></tr>\n",
       "\t<tr><td>41</td><td>0</td><td>3900</td><td>40</td><td>United-States</td><td>&lt;=50K</td><td>0</td><td>1</td><td>1</td><td>1</td><td>...</td><td>0</td><td>0</td><td>0</td><td>0</td><td>0</td><td>0</td><td>0</td><td>0</td><td>0</td><td>0</td></tr>\n",
       "\t<tr><td>34</td><td>0</td><td>3770</td><td>45</td><td>United-States</td><td>&lt;=50K</td><td>0</td><td>1</td><td>1</td><td>1</td><td>...</td><td>0</td><td>0</td><td>0</td><td>0</td><td>0</td><td>0</td><td>0</td><td>0</td><td>0</td><td>0</td></tr>\n",
       "</tbody>\n",
       "</table>\n"
      ],
      "text/latex": [
       "A tibble: 3 × 24\n",
       "\\begin{tabular}{lllllllllllllllllllll}\n",
       " age & capital.gain & capital.loss & hours.per.week & native.country & income & is\\_married & sex\\_dummy & being\\_paid & is\\_american & ... & sales & transport.moving & craft.repair & farming.fishing & handlers.cleaners & machine.op.inspct & protective.serv & tech.support & priv.house.serv & armed.forces\\\\\n",
       " <dbl> & <dbl> & <dbl> & <dbl> & <chr> & <chr> & <dbl> & <dbl> & <dbl> & <dbl> & ... & <int> & <int> & <int> & <int> & <int> & <int> & <int> & <int> & <int> & <int>\\\\\n",
       "\\hline\n",
       "\t 82 & 0 & 4356 & 18 & United-States & <=50K & 0 & 1 & 1 & 1 & ... & 0 & 0 & 0 & 0 & 0 & 0 & 0 & 0 & 0 & 0\\\\\n",
       "\t 41 & 0 & 3900 & 40 & United-States & <=50K & 0 & 1 & 1 & 1 & ... & 0 & 0 & 0 & 0 & 0 & 0 & 0 & 0 & 0 & 0\\\\\n",
       "\t 34 & 0 & 3770 & 45 & United-States & <=50K & 0 & 1 & 1 & 1 & ... & 0 & 0 & 0 & 0 & 0 & 0 & 0 & 0 & 0 & 0\\\\\n",
       "\\end{tabular}\n"
      ],
      "text/markdown": [
       "\n",
       "A tibble: 3 × 24\n",
       "\n",
       "| age &lt;dbl&gt; | capital.gain &lt;dbl&gt; | capital.loss &lt;dbl&gt; | hours.per.week &lt;dbl&gt; | native.country &lt;chr&gt; | income &lt;chr&gt; | is_married &lt;dbl&gt; | sex_dummy &lt;dbl&gt; | being_paid &lt;dbl&gt; | is_american &lt;dbl&gt; | ... ... | sales &lt;int&gt; | transport.moving &lt;int&gt; | craft.repair &lt;int&gt; | farming.fishing &lt;int&gt; | handlers.cleaners &lt;int&gt; | machine.op.inspct &lt;int&gt; | protective.serv &lt;int&gt; | tech.support &lt;int&gt; | priv.house.serv &lt;int&gt; | armed.forces &lt;int&gt; |\n",
       "|---|---|---|---|---|---|---|---|---|---|---|---|---|---|---|---|---|---|---|---|---|\n",
       "| 82 | 0 | 4356 | 18 | United-States | &lt;=50K | 0 | 1 | 1 | 1 | ... | 0 | 0 | 0 | 0 | 0 | 0 | 0 | 0 | 0 | 0 |\n",
       "| 41 | 0 | 3900 | 40 | United-States | &lt;=50K | 0 | 1 | 1 | 1 | ... | 0 | 0 | 0 | 0 | 0 | 0 | 0 | 0 | 0 | 0 |\n",
       "| 34 | 0 | 3770 | 45 | United-States | &lt;=50K | 0 | 1 | 1 | 1 | ... | 0 | 0 | 0 | 0 | 0 | 0 | 0 | 0 | 0 | 0 |\n",
       "\n"
      ],
      "text/plain": [
       "  age capital.gain capital.loss hours.per.week native.country income is_married\n",
       "1 82  0            4356         18             United-States  <=50K  0         \n",
       "2 41  0            3900         40             United-States  <=50K  0         \n",
       "3 34  0            3770         45             United-States  <=50K  0         \n",
       "  sex_dummy being_paid is_american ... sales transport.moving craft.repair\n",
       "1 1         1          1           ... 0     0                0           \n",
       "2 1         1          1           ... 0     0                0           \n",
       "3 1         1          1           ... 0     0                0           \n",
       "  farming.fishing handlers.cleaners machine.op.inspct protective.serv\n",
       "1 0               0                 0                 0              \n",
       "2 0               0                 0                 0              \n",
       "3 0               0                 0                 0              \n",
       "  tech.support priv.house.serv armed.forces\n",
       "1 0            0               0           \n",
       "2 0            0               0           \n",
       "3 0            0               0           "
      ]
     },
     "metadata": {},
     "output_type": "display_data"
    }
   ],
   "source": [
    "tidy_df <- occupations_df |>\n",
    "    select(-c(occupation, workclass, education, occupation, relationship, sex, native.country))\n",
    "\n",
    "head(tidy_df, 3)"
   ]
  },
  {
   "cell_type": "markdown",
   "metadata": {},
   "source": [
    "All in all, the processing can be explained by this one function:"
   ]
  },
  {
   "cell_type": "code",
   "execution_count": null,
   "metadata": {
    "vscode": {
     "languageId": "r"
    }
   },
   "outputs": [
    {
     "name": "stdout",
     "output_type": "stream",
     "text": [
      "[1] TRUE\n"
     ]
    }
   ],
   "source": [
    "process_df <- function(df){\n",
    "    filtered_df <- df |>\n",
    "    select(age, workclass, education, occupation, relationship, sex,\n",
    "            capital.gain, capital.loss, hours.per.week, native.country, income) |>\n",
    "    filter(workclass != \"?\" & occupation != \"?\")\n",
    "\n",
    "    binary_df <- preprocess_binary(filtered_df)\n",
    "\n",
    "    unique_occupations <- as.list(unique(binary_df$occupation))\n",
    "    occupations_df <- preprocess_occupation(binary_df, unique_occupations) \n",
    "    new_cols_df <- select(occupations_df, -c(occupation, workclass, education, occupation, relationship, sex, native.country))\n",
    "\n",
    "    return(new_cols_df)\n",
    "}\n",
    "processed_df_train <- process_df(df_train)\n",
    "print(all.equal(processed_df_train, tidy_df) & all.equal(colnames(processed_df_train), colnames(tidy_df)))"
   ]
  },
  {
   "cell_type": "code",
   "execution_count": null,
   "metadata": {
    "vscode": {
     "languageId": "r"
    }
   },
   "outputs": [
    {
     "data": {
      "text/html": [
       "<table class=\"dataframe\">\n",
       "<caption>A tibble: 5 × 24</caption>\n",
       "<thead>\n",
       "\t<tr><th scope=col>age</th><th scope=col>capital.gain</th><th scope=col>capital.loss</th><th scope=col>hours.per.week</th><th scope=col>native.country</th><th scope=col>is_married</th><th scope=col>sex_dummy</th><th scope=col>being_paid</th><th scope=col>is_american</th><th scope=col>exec.managerial</th><th scope=col>...</th><th scope=col>craft.repair</th><th scope=col>farming.fishing</th><th scope=col>adm.clerical</th><th scope=col>handlers.cleaners</th><th scope=col>protective.serv</th><th scope=col>tech.support</th><th scope=col>transport.moving</th><th scope=col>priv.house.serv</th><th scope=col>armed.forces</th><th scope=col>income</th></tr>\n",
       "\t<tr><th scope=col>&lt;dbl&gt;</th><th scope=col>&lt;dbl&gt;</th><th scope=col>&lt;dbl&gt;</th><th scope=col>&lt;dbl&gt;</th><th scope=col>&lt;fct&gt;</th><th scope=col>&lt;dbl&gt;</th><th scope=col>&lt;dbl&gt;</th><th scope=col>&lt;dbl&gt;</th><th scope=col>&lt;dbl&gt;</th><th scope=col>&lt;int&gt;</th><th scope=col>...</th><th scope=col>&lt;int&gt;</th><th scope=col>&lt;int&gt;</th><th scope=col>&lt;int&gt;</th><th scope=col>&lt;int&gt;</th><th scope=col>&lt;int&gt;</th><th scope=col>&lt;int&gt;</th><th scope=col>&lt;int&gt;</th><th scope=col>&lt;int&gt;</th><th scope=col>&lt;int&gt;</th><th scope=col>&lt;fct&gt;</th></tr>\n",
       "</thead>\n",
       "<tbody>\n",
       "\t<tr><td> 3.3267000</td><td>-0.1485049</td><td>10.543798</td><td>-1.91502768</td><td>United-States</td><td>0</td><td>1</td><td>1</td><td>1</td><td>1</td><td>...</td><td>0</td><td>0</td><td>0</td><td>0</td><td>0</td><td>0</td><td>0</td><td>0</td><td>0</td><td>&lt;=50K</td></tr>\n",
       "\t<tr><td> 1.1897266</td><td>-0.1485049</td><td> 9.417188</td><td>-0.07788827</td><td>United-States</td><td>0</td><td>1</td><td>1</td><td>1</td><td>0</td><td>...</td><td>0</td><td>0</td><td>0</td><td>0</td><td>0</td><td>0</td><td>0</td><td>0</td><td>0</td><td>&lt;=50K</td></tr>\n",
       "\t<tr><td> 0.1975604</td><td>-0.1485049</td><td> 9.417188</td><td>-0.07788827</td><td>United-States</td><td>0</td><td>1</td><td>1</td><td>1</td><td>0</td><td>...</td><td>0</td><td>0</td><td>0</td><td>0</td><td>0</td><td>0</td><td>0</td><td>0</td><td>0</td><td>&lt;=50K</td></tr>\n",
       "\t<tr><td>-0.3366830</td><td>-0.1485049</td><td> 9.096005</td><td> 0.33964342</td><td>United-States</td><td>0</td><td>1</td><td>1</td><td>1</td><td>0</td><td>...</td><td>0</td><td>0</td><td>0</td><td>0</td><td>0</td><td>0</td><td>0</td><td>0</td><td>0</td><td>&lt;=50K</td></tr>\n",
       "\t<tr><td> 2.2582133</td><td>-0.1485049</td><td> 8.881060</td><td>-0.07788827</td><td>United-States</td><td>0</td><td>1</td><td>1</td><td>1</td><td>0</td><td>...</td><td>0</td><td>0</td><td>0</td><td>0</td><td>0</td><td>0</td><td>0</td><td>0</td><td>0</td><td>&lt;=50K</td></tr>\n",
       "</tbody>\n",
       "</table>\n"
      ],
      "text/latex": [
       "A tibble: 5 × 24\n",
       "\\begin{tabular}{lllllllllllllllllllll}\n",
       " age & capital.gain & capital.loss & hours.per.week & native.country & is\\_married & sex\\_dummy & being\\_paid & is\\_american & exec.managerial & ... & craft.repair & farming.fishing & adm.clerical & handlers.cleaners & protective.serv & tech.support & transport.moving & priv.house.serv & armed.forces & income\\\\\n",
       " <dbl> & <dbl> & <dbl> & <dbl> & <fct> & <dbl> & <dbl> & <dbl> & <dbl> & <int> & ... & <int> & <int> & <int> & <int> & <int> & <int> & <int> & <int> & <int> & <fct>\\\\\n",
       "\\hline\n",
       "\t  3.3267000 & -0.1485049 & 10.543798 & -1.91502768 & United-States & 0 & 1 & 1 & 1 & 1 & ... & 0 & 0 & 0 & 0 & 0 & 0 & 0 & 0 & 0 & <=50K\\\\\n",
       "\t  1.1897266 & -0.1485049 &  9.417188 & -0.07788827 & United-States & 0 & 1 & 1 & 1 & 0 & ... & 0 & 0 & 0 & 0 & 0 & 0 & 0 & 0 & 0 & <=50K\\\\\n",
       "\t  0.1975604 & -0.1485049 &  9.417188 & -0.07788827 & United-States & 0 & 1 & 1 & 1 & 0 & ... & 0 & 0 & 0 & 0 & 0 & 0 & 0 & 0 & 0 & <=50K\\\\\n",
       "\t -0.3366830 & -0.1485049 &  9.096005 &  0.33964342 & United-States & 0 & 1 & 1 & 1 & 0 & ... & 0 & 0 & 0 & 0 & 0 & 0 & 0 & 0 & 0 & <=50K\\\\\n",
       "\t  2.2582133 & -0.1485049 &  8.881060 & -0.07788827 & United-States & 0 & 1 & 1 & 1 & 0 & ... & 0 & 0 & 0 & 0 & 0 & 0 & 0 & 0 & 0 & <=50K\\\\\n",
       "\\end{tabular}\n"
      ],
      "text/markdown": [
       "\n",
       "A tibble: 5 × 24\n",
       "\n",
       "| age &lt;dbl&gt; | capital.gain &lt;dbl&gt; | capital.loss &lt;dbl&gt; | hours.per.week &lt;dbl&gt; | native.country &lt;fct&gt; | is_married &lt;dbl&gt; | sex_dummy &lt;dbl&gt; | being_paid &lt;dbl&gt; | is_american &lt;dbl&gt; | exec.managerial &lt;int&gt; | ... ... | craft.repair &lt;int&gt; | farming.fishing &lt;int&gt; | adm.clerical &lt;int&gt; | handlers.cleaners &lt;int&gt; | protective.serv &lt;int&gt; | tech.support &lt;int&gt; | transport.moving &lt;int&gt; | priv.house.serv &lt;int&gt; | armed.forces &lt;int&gt; | income &lt;fct&gt; |\n",
       "|---|---|---|---|---|---|---|---|---|---|---|---|---|---|---|---|---|---|---|---|---|\n",
       "|  3.3267000 | -0.1485049 | 10.543798 | -1.91502768 | United-States | 0 | 1 | 1 | 1 | 1 | ... | 0 | 0 | 0 | 0 | 0 | 0 | 0 | 0 | 0 | &lt;=50K |\n",
       "|  1.1897266 | -0.1485049 |  9.417188 | -0.07788827 | United-States | 0 | 1 | 1 | 1 | 0 | ... | 0 | 0 | 0 | 0 | 0 | 0 | 0 | 0 | 0 | &lt;=50K |\n",
       "|  0.1975604 | -0.1485049 |  9.417188 | -0.07788827 | United-States | 0 | 1 | 1 | 1 | 0 | ... | 0 | 0 | 0 | 0 | 0 | 0 | 0 | 0 | 0 | &lt;=50K |\n",
       "| -0.3366830 | -0.1485049 |  9.096005 |  0.33964342 | United-States | 0 | 1 | 1 | 1 | 0 | ... | 0 | 0 | 0 | 0 | 0 | 0 | 0 | 0 | 0 | &lt;=50K |\n",
       "|  2.2582133 | -0.1485049 |  8.881060 | -0.07788827 | United-States | 0 | 1 | 1 | 1 | 0 | ... | 0 | 0 | 0 | 0 | 0 | 0 | 0 | 0 | 0 | &lt;=50K |\n",
       "\n"
      ],
      "text/plain": [
       "  age        capital.gain capital.loss hours.per.week native.country is_married\n",
       "1  3.3267000 -0.1485049   10.543798    -1.91502768    United-States  0         \n",
       "2  1.1897266 -0.1485049    9.417188    -0.07788827    United-States  0         \n",
       "3  0.1975604 -0.1485049    9.417188    -0.07788827    United-States  0         \n",
       "4 -0.3366830 -0.1485049    9.096005     0.33964342    United-States  0         \n",
       "5  2.2582133 -0.1485049    8.881060    -0.07788827    United-States  0         \n",
       "  sex_dummy being_paid is_american exec.managerial ... craft.repair\n",
       "1 1         1          1           1               ... 0           \n",
       "2 1         1          1           0               ... 0           \n",
       "3 1         1          1           0               ... 0           \n",
       "4 1         1          1           0               ... 0           \n",
       "5 1         1          1           0               ... 0           \n",
       "  farming.fishing adm.clerical handlers.cleaners protective.serv tech.support\n",
       "1 0               0            0                 0               0           \n",
       "2 0               0            0                 0               0           \n",
       "3 0               0            0                 0               0           \n",
       "4 0               0            0                 0               0           \n",
       "5 0               0            0                 0               0           \n",
       "  transport.moving priv.house.serv armed.forces income\n",
       "1 0                0               0            <=50K \n",
       "2 0                0               0            <=50K \n",
       "3 0                0               0            <=50K \n",
       "4 0                0               0            <=50K \n",
       "5 0                0               0            <=50K "
      ]
     },
     "metadata": {},
     "output_type": "display_data"
    }
   ],
   "source": [
    "scale_impute_df <- function(df){\n",
    "  original_num_cols <- c(\"age\", \"capital.gain\", \"capital.loss\", \"hours.per.week\")\n",
    "\n",
    "  impute_scale_recipe <- recipe(income ~ ., data = df) |>\n",
    "    step_scale(original_num_cols) |>\n",
    "    step_center(original_num_cols) |>\n",
    "    step_impute_mean(original_num_cols) |>\n",
    "    prep()\n",
    "\n",
    "  transformed_df <- bake(impute_scale_recipe, df)\n",
    "  return(transformed_df)\n",
    "}\n",
    "\n",
    "processed_df <- scale_impute_df(new_cols_df)\n",
    "head(processed_df, 5)"
   ]
  },
  {
   "cell_type": "markdown",
   "metadata": {},
   "source": []
  }
 ],
 "metadata": {
  "kernelspec": {
   "display_name": "R",
   "language": "R",
   "name": "ir"
  },
  "language_info": {
   "codemirror_mode": "r",
   "file_extension": ".r",
   "mimetype": "text/x-r-source",
   "name": "R",
   "pygments_lexer": "r",
   "version": "4.3.1"
  }
 },
 "nbformat": 4,
 "nbformat_minor": 2
}
