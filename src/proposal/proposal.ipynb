{
 "cells": [
  {
   "cell_type": "markdown",
   "metadata": {},
   "source": [
    "## Classification of Income Being Above or Below/Equal to $50,000 in Adult Census Data\n",
    "\n",
    "By: Sunsar, Sarah, Emily, Calvin (DSCI 100 003 - Group 23)\n",
    "\n",
    "Data is from: https://www.kaggle.com/datasets/uciml/adult-census-income"
   ]
  },
  {
   "cell_type": "markdown",
   "metadata": {},
   "source": [
    "The dataset used for this analysis is derived from the 1994 Census Bureau database. \n",
    "\n",
    "The dataset contains a diverse range of numerical and categorical attributes, such as age, hours worked per week,  sex, and more. In this project, we will filter and simplify some categories from this dataset to predict whether an individual\"s annual salary falls above or below/equal to $50,000.\n",
    "\n",
    "The question this project will seek to answer is: \n",
    "\n",
    "**How do different aspects of a person predict whether annual income will be above or below/equal to $50K annually?**"
   ]
  },
  {
   "cell_type": "markdown",
   "metadata": {},
   "source": [
    "# Reading in Data"
   ]
  },
  {
   "cell_type": "code",
   "execution_count": 1,
   "metadata": {
    "vscode": {
     "languageId": "r"
    }
   },
   "outputs": [
    {
     "name": "stderr",
     "output_type": "stream",
     "text": [
      "-- \u001b[1mAttaching core tidyverse packages\u001b[22m ------------------------ tidyverse 2.0.0 --\n",
      "\u001b[32mv\u001b[39m \u001b[34mdplyr    \u001b[39m 1.1.3     \u001b[32mv\u001b[39m \u001b[34mreadr    \u001b[39m 2.1.4\n",
      "\u001b[32mv\u001b[39m \u001b[34mforcats  \u001b[39m 1.0.0     \u001b[32mv\u001b[39m \u001b[34mstringr  \u001b[39m 1.5.0\n",
      "\u001b[32mv\u001b[39m \u001b[34mggplot2  \u001b[39m 3.4.3     \u001b[32mv\u001b[39m \u001b[34mtibble   \u001b[39m 3.2.1\n",
      "\u001b[32mv\u001b[39m \u001b[34mlubridate\u001b[39m 1.9.2     \u001b[32mv\u001b[39m \u001b[34mtidyr    \u001b[39m 1.3.0\n",
      "\u001b[32mv\u001b[39m \u001b[34mpurrr    \u001b[39m 1.0.2     \n",
      "-- \u001b[1mConflicts\u001b[22m ------------------------------------------ tidyverse_conflicts() --\n",
      "\u001b[31mx\u001b[39m \u001b[34mdplyr\u001b[39m::\u001b[32mfilter()\u001b[39m masks \u001b[34mstats\u001b[39m::filter()\n",
      "\u001b[31mx\u001b[39m \u001b[34mdplyr\u001b[39m::\u001b[32mlag()\u001b[39m    masks \u001b[34mstats\u001b[39m::lag()\n",
      "\u001b[36mi\u001b[39m Use the conflicted package (\u001b[3m\u001b[34m<http://conflicted.r-lib.org/>\u001b[39m\u001b[23m) to force all conflicts to become errors\n",
      "-- \u001b[1mAttaching packages\u001b[22m -------------------------------------- tidymodels 1.1.1 --\n",
      "\n",
      "\u001b[32mv\u001b[39m \u001b[34mbroom       \u001b[39m 1.0.5     \u001b[32mv\u001b[39m \u001b[34mrsample     \u001b[39m 1.2.0\n",
      "\u001b[32mv\u001b[39m \u001b[34mdials       \u001b[39m 1.2.0     \u001b[32mv\u001b[39m \u001b[34mtune        \u001b[39m 1.1.2\n",
      "\u001b[32mv\u001b[39m \u001b[34minfer       \u001b[39m 1.0.5     \u001b[32mv\u001b[39m \u001b[34mworkflows   \u001b[39m 1.1.3\n",
      "\u001b[32mv\u001b[39m \u001b[34mmodeldata   \u001b[39m 1.2.0     \u001b[32mv\u001b[39m \u001b[34mworkflowsets\u001b[39m 1.0.1\n",
      "\u001b[32mv\u001b[39m \u001b[34mparsnip     \u001b[39m 1.1.1     \u001b[32mv\u001b[39m \u001b[34myardstick   \u001b[39m 1.2.0\n",
      "\u001b[32mv\u001b[39m \u001b[34mrecipes     \u001b[39m 1.0.8     \n",
      "\n",
      "-- \u001b[1mConflicts\u001b[22m ----------------------------------------- tidymodels_conflicts() --\n",
      "\u001b[31mx\u001b[39m \u001b[34mscales\u001b[39m::\u001b[32mdiscard()\u001b[39m masks \u001b[34mpurrr\u001b[39m::discard()\n",
      "\u001b[31mx\u001b[39m \u001b[34mdplyr\u001b[39m::\u001b[32mfilter()\u001b[39m   masks \u001b[34mstats\u001b[39m::filter()\n",
      "\u001b[31mx\u001b[39m \u001b[34mrecipes\u001b[39m::\u001b[32mfixed()\u001b[39m  masks \u001b[34mstringr\u001b[39m::fixed()\n",
      "\u001b[31mx\u001b[39m \u001b[34mdplyr\u001b[39m::\u001b[32mlag()\u001b[39m      masks \u001b[34mstats\u001b[39m::lag()\n",
      "\u001b[31mx\u001b[39m \u001b[34myardstick\u001b[39m::\u001b[32mspec()\u001b[39m masks \u001b[34mreadr\u001b[39m::spec()\n",
      "\u001b[31mx\u001b[39m \u001b[34mrecipes\u001b[39m::\u001b[32mstep()\u001b[39m   masks \u001b[34mstats\u001b[39m::step()\n",
      "\u001b[34m*\u001b[39m Use \u001b[32mtidymodels_prefer()\u001b[39m to resolve common conflicts.\n",
      "\n"
     ]
    }
   ],
   "source": [
    "library(tidyverse)\n",
    "library(tidymodels)"
   ]
  },
  {
   "cell_type": "code",
   "execution_count": 2,
   "metadata": {
    "vscode": {
     "languageId": "r"
    }
   },
   "outputs": [
    {
     "name": "stderr",
     "output_type": "stream",
     "text": [
      "\u001b[1mRows: \u001b[22m\u001b[34m32561\u001b[39m \u001b[1mColumns: \u001b[22m\u001b[34m15\u001b[39m\n",
      "\u001b[36m--\u001b[39m \u001b[1mColumn specification\u001b[22m \u001b[36m--------------------------------------------------------\u001b[39m\n",
      "\u001b[1mDelimiter:\u001b[22m \",\"\n",
      "\u001b[31mchr\u001b[39m (9): workclass, education, marital.status, occupation, relationship, rac...\n",
      "\u001b[32mdbl\u001b[39m (6): age, fnlwgt, education.num, capital.gain, capital.loss, hours.per.week\n",
      "\n",
      "\u001b[36mi\u001b[39m Use `spec()` to retrieve the full column specification for this data.\n",
      "\u001b[36mi\u001b[39m Specify the column types or set `show_col_types = FALSE` to quiet this message.\n"
     ]
    },
    {
     "data": {
      "text/html": [
       "'Training set row count: 26048'"
      ],
      "text/latex": [
       "'Training set row count: 26048'"
      ],
      "text/markdown": [
       "'Training set row count: 26048'"
      ],
      "text/plain": [
       "[1] \"Training set row count: 26048\""
      ]
     },
     "metadata": {},
     "output_type": "display_data"
    },
    {
     "data": {
      "text/html": [
       "'Testing set row count: 6513'"
      ],
      "text/latex": [
       "'Testing set row count: 6513'"
      ],
      "text/markdown": [
       "'Testing set row count: 6513'"
      ],
      "text/plain": [
       "[1] \"Testing set row count: 6513\""
      ]
     },
     "metadata": {},
     "output_type": "display_data"
    }
   ],
   "source": [
    "df = read_csv(\"https://raw.githubusercontent.com/calvingdu/dsci100-003-23/master/data/adult_census.csv\")\n",
    "\n",
    "# Splitting the data\n",
    "df_split <- initial_split(df, prop = 0.8, strata = income)\n",
    "df_train <- training(df_split)\n",
    "df_test <- testing(df_split)\n",
    "\n",
    "paste0(\"Training set row count: \", nrow(df_train))\n",
    "paste0(\"Testing set row count: \", nrow(df_test))"
   ]
  },
  {
   "cell_type": "code",
   "execution_count": 3,
   "metadata": {
    "vscode": {
     "languageId": "r"
    }
   },
   "outputs": [
    {
     "data": {
      "text/html": [
       "<table class=\"dataframe\">\n",
       "<caption>A tibble: 3 × 15</caption>\n",
       "<thead>\n",
       "\t<tr><th scope=col>age</th><th scope=col>workclass</th><th scope=col>fnlwgt</th><th scope=col>education</th><th scope=col>education.num</th><th scope=col>marital.status</th><th scope=col>occupation</th><th scope=col>relationship</th><th scope=col>race</th><th scope=col>sex</th><th scope=col>capital.gain</th><th scope=col>capital.loss</th><th scope=col>hours.per.week</th><th scope=col>native.country</th><th scope=col>income</th></tr>\n",
       "\t<tr><th scope=col>&lt;dbl&gt;</th><th scope=col>&lt;chr&gt;</th><th scope=col>&lt;dbl&gt;</th><th scope=col>&lt;chr&gt;</th><th scope=col>&lt;dbl&gt;</th><th scope=col>&lt;chr&gt;</th><th scope=col>&lt;chr&gt;</th><th scope=col>&lt;chr&gt;</th><th scope=col>&lt;chr&gt;</th><th scope=col>&lt;chr&gt;</th><th scope=col>&lt;dbl&gt;</th><th scope=col>&lt;dbl&gt;</th><th scope=col>&lt;dbl&gt;</th><th scope=col>&lt;chr&gt;</th><th scope=col>&lt;chr&gt;</th></tr>\n",
       "</thead>\n",
       "<tbody>\n",
       "\t<tr><td>82</td><td>Private</td><td>132870</td><td><span style=white-space:pre-wrap>HS-grad     </span></td><td> 9</td><td>Widowed </td><td><span style=white-space:pre-wrap>Exec-managerial  </span></td><td>Not-in-family</td><td>White</td><td>Female</td><td>0</td><td>4356</td><td>18</td><td>United-States</td><td>&lt;=50K</td></tr>\n",
       "\t<tr><td>66</td><td><span style=white-space:pre-wrap>?      </span></td><td>186061</td><td>Some-college</td><td>10</td><td>Widowed </td><td><span style=white-space:pre-wrap>?                </span></td><td><span style=white-space:pre-wrap>Unmarried    </span></td><td>Black</td><td>Female</td><td>0</td><td>4356</td><td>40</td><td>United-States</td><td>&lt;=50K</td></tr>\n",
       "\t<tr><td>54</td><td>Private</td><td>140359</td><td><span style=white-space:pre-wrap>7th-8th     </span></td><td> 4</td><td>Divorced</td><td>Machine-op-inspct</td><td><span style=white-space:pre-wrap>Unmarried    </span></td><td>White</td><td>Female</td><td>0</td><td>3900</td><td>40</td><td>United-States</td><td>&lt;=50K</td></tr>\n",
       "</tbody>\n",
       "</table>\n"
      ],
      "text/latex": [
       "A tibble: 3 × 15\n",
       "\\begin{tabular}{lllllllllllllll}\n",
       " age & workclass & fnlwgt & education & education.num & marital.status & occupation & relationship & race & sex & capital.gain & capital.loss & hours.per.week & native.country & income\\\\\n",
       " <dbl> & <chr> & <dbl> & <chr> & <dbl> & <chr> & <chr> & <chr> & <chr> & <chr> & <dbl> & <dbl> & <dbl> & <chr> & <chr>\\\\\n",
       "\\hline\n",
       "\t 82 & Private & 132870 & HS-grad      &  9 & Widowed  & Exec-managerial   & Not-in-family & White & Female & 0 & 4356 & 18 & United-States & <=50K\\\\\n",
       "\t 66 & ?       & 186061 & Some-college & 10 & Widowed  & ?                 & Unmarried     & Black & Female & 0 & 4356 & 40 & United-States & <=50K\\\\\n",
       "\t 54 & Private & 140359 & 7th-8th      &  4 & Divorced & Machine-op-inspct & Unmarried     & White & Female & 0 & 3900 & 40 & United-States & <=50K\\\\\n",
       "\\end{tabular}\n"
      ],
      "text/markdown": [
       "\n",
       "A tibble: 3 × 15\n",
       "\n",
       "| age &lt;dbl&gt; | workclass &lt;chr&gt; | fnlwgt &lt;dbl&gt; | education &lt;chr&gt; | education.num &lt;dbl&gt; | marital.status &lt;chr&gt; | occupation &lt;chr&gt; | relationship &lt;chr&gt; | race &lt;chr&gt; | sex &lt;chr&gt; | capital.gain &lt;dbl&gt; | capital.loss &lt;dbl&gt; | hours.per.week &lt;dbl&gt; | native.country &lt;chr&gt; | income &lt;chr&gt; |\n",
       "|---|---|---|---|---|---|---|---|---|---|---|---|---|---|---|\n",
       "| 82 | Private | 132870 | HS-grad      |  9 | Widowed  | Exec-managerial   | Not-in-family | White | Female | 0 | 4356 | 18 | United-States | &lt;=50K |\n",
       "| 66 | ?       | 186061 | Some-college | 10 | Widowed  | ?                 | Unmarried     | Black | Female | 0 | 4356 | 40 | United-States | &lt;=50K |\n",
       "| 54 | Private | 140359 | 7th-8th      |  4 | Divorced | Machine-op-inspct | Unmarried     | White | Female | 0 | 3900 | 40 | United-States | &lt;=50K |\n",
       "\n"
      ],
      "text/plain": [
       "  age workclass fnlwgt education    education.num marital.status\n",
       "1 82  Private   132870 HS-grad       9            Widowed       \n",
       "2 66  ?         186061 Some-college 10            Widowed       \n",
       "3 54  Private   140359 7th-8th       4            Divorced      \n",
       "  occupation        relationship  race  sex    capital.gain capital.loss\n",
       "1 Exec-managerial   Not-in-family White Female 0            4356        \n",
       "2 ?                 Unmarried     Black Female 0            4356        \n",
       "3 Machine-op-inspct Unmarried     White Female 0            3900        \n",
       "  hours.per.week native.country income\n",
       "1 18             United-States  <=50K \n",
       "2 40             United-States  <=50K \n",
       "3 40             United-States  <=50K "
      ]
     },
     "metadata": {},
     "output_type": "display_data"
    }
   ],
   "source": [
    "head(df_train, 3)"
   ]
  },
  {
   "cell_type": "markdown",
   "metadata": {},
   "source": [
    "# Tidying/Cleaning The Data & Selecting Columns\n",
    "We can begin by tidying up the data. Something we noticed immediately that there are a lot of categorical columns. To tackle this, we plan to make buckets of categories and then turn them into dummy variables. For example, we can turn __sex__ into a dummy variable where 0 = male and 1 = female, make dummy variables by bucketting different things such as paid/unpaid in __workclass__, or making a dummy variable for every unique value. \n",
    "\n",
    "These are the columns we plan to use and how we plan to tackle them to make them usable in data: \n",
    "- **Age**: No changes (either than scaling/imputation)\n",
    "- **Workclass**: Make a dummy variable for paid/unpaid\n",
    "- **Education**: Simplified to a dummy variable of if College Graduate or Not\n",
    "- **Occupation**: Make a dummy variable for all the occupations\n",
    "- **Relationship**: Simplified a dummy variable of Married or Not\n",
    "- **Sex**: Transformed into a Dummy Variable\n",
    "- **Capital Gain**: No changes (either than scaling/imputation)\n",
    "- **Capital Loss**: No changes (either than scaling/imputation)\n",
    "- **Hours Per Week**: No changes (either than scaling/imputation)\n",
    "- **Native Country**: Evaluated what country has the most people with income > 50k (United States by a large margin) and then make a dummy variable for being in this country or not \n",
    "\n",
    "**Dropped Columns & Reasoning**: \n",
    "- fnlwgt: Unclear how this relates\n",
    "- education.num: Already have education\n",
    "- race: Don\"t believe this is significant to the study so removing to avoid overfitting \n",
    "- marital.status: We think it\"s similar to relationship so we remove to avoid overfitting \n"
   ]
  },
  {
   "cell_type": "markdown",
   "metadata": {},
   "source": [
    "This is also some tidying to do. We can initially see that there are some missing values in __workclass__ and __occupation__ represented as ?. Since we believe these are extremely important roles to guess income category, we remove any rows that don't have data for this. "
   ]
  },
  {
   "cell_type": "code",
   "execution_count": 4,
   "metadata": {
    "vscode": {
     "languageId": "r"
    }
   },
   "outputs": [],
   "source": [
    "filtered_df <- df_train |>\n",
    "  select(age, workclass, education, occupation, relationship, sex,\n",
    "         capital.gain, capital.loss, hours.per.week, native.country, income) |>\n",
    "  filter(workclass != \"?\" & occupation != \"?\")"
   ]
  },
  {
   "cell_type": "markdown",
   "metadata": {},
   "source": [
    "Then, we can begin by making dummy variables in the data using the above choices"
   ]
  },
  {
   "cell_type": "markdown",
   "metadata": {},
   "source": [
    "### Binary Preprocessing"
   ]
  },
  {
   "cell_type": "code",
   "execution_count": 5,
   "metadata": {
    "vscode": {
     "languageId": "r"
    }
   },
   "outputs": [],
   "source": [
    "# Making a function to be used later\n",
    "preprocess_binary <- function(df){\n",
    "    transformed_df <- df |>\n",
    "        mutate(is_married = ifelse((relationship == \"Husband\" | relationship == \"Wife\" |relationship == \"Wife\"),1,0)) |>\n",
    "        mutate(sex_dummy = ifelse(sex == \"Female\", 1, 0)) |>\n",
    "        mutate(being_paid = ifelse(workclass != \"Self-emp-not-inc\" & workclass != \"Without-pay\" & workclass != \"Never-worked\", 1, 0)) |>\n",
    "        mutate(is_american = ifelse(native.country == \"United-States\", 1, 0))\n",
    "    return(transformed_df)\n",
    "}\n",
    "\n",
    "binary_df <- preprocess_binary(filtered_df)"
   ]
  },
  {
   "cell_type": "markdown",
   "metadata": {},
   "source": [
    "### Dummy Variables for Every Occupation"
   ]
  },
  {
   "cell_type": "code",
   "execution_count": 6,
   "metadata": {
    "vscode": {
     "languageId": "r"
    }
   },
   "outputs": [],
   "source": [
    "unique_occupations <- as.list(unique(binary_df$occupation))\n",
    "\n",
    "# Making a function to use later\n",
    "preprocess_occupation <- function(df, occupations){\n",
    "    for (occ in occupations) {\n",
    "        col_name <- gsub(\"[^a-zA-Z0-9 ]\", \".\", tolower(occ))\n",
    "        df[[col_name]] <- as.integer(df$occupation == occ)\n",
    "    }\n",
    "    return(df)\n",
    "}\n",
    "\n",
    "occupations_df <- preprocess_occupation(binary_df, unique_occupations)"
   ]
  },
  {
   "cell_type": "markdown",
   "metadata": {},
   "source": [
    "### Removing Original Variables"
   ]
  },
  {
   "cell_type": "code",
   "execution_count": 7,
   "metadata": {
    "vscode": {
     "languageId": "r"
    }
   },
   "outputs": [
    {
     "data": {
      "text/html": [
       "<table class=\"dataframe\">\n",
       "<caption>A tibble: 6 × 23</caption>\n",
       "<thead>\n",
       "\t<tr><th scope=col>age</th><th scope=col>capital.gain</th><th scope=col>capital.loss</th><th scope=col>hours.per.week</th><th scope=col>income</th><th scope=col>is_married</th><th scope=col>sex_dummy</th><th scope=col>being_paid</th><th scope=col>is_american</th><th scope=col>exec.managerial</th><th scope=col>...</th><th scope=col>adm.clerical</th><th scope=col>sales</th><th scope=col>transport.moving</th><th scope=col>craft.repair</th><th scope=col>farming.fishing</th><th scope=col>tech.support</th><th scope=col>handlers.cleaners</th><th scope=col>protective.serv</th><th scope=col>priv.house.serv</th><th scope=col>armed.forces</th></tr>\n",
       "\t<tr><th scope=col>&lt;dbl&gt;</th><th scope=col>&lt;dbl&gt;</th><th scope=col>&lt;dbl&gt;</th><th scope=col>&lt;dbl&gt;</th><th scope=col>&lt;chr&gt;</th><th scope=col>&lt;dbl&gt;</th><th scope=col>&lt;dbl&gt;</th><th scope=col>&lt;dbl&gt;</th><th scope=col>&lt;dbl&gt;</th><th scope=col>&lt;int&gt;</th><th scope=col>...</th><th scope=col>&lt;int&gt;</th><th scope=col>&lt;int&gt;</th><th scope=col>&lt;int&gt;</th><th scope=col>&lt;int&gt;</th><th scope=col>&lt;int&gt;</th><th scope=col>&lt;int&gt;</th><th scope=col>&lt;int&gt;</th><th scope=col>&lt;int&gt;</th><th scope=col>&lt;int&gt;</th><th scope=col>&lt;int&gt;</th></tr>\n",
       "</thead>\n",
       "<tbody>\n",
       "\t<tr><td>82</td><td>0</td><td>4356</td><td>18</td><td>&lt;=50K</td><td>0</td><td>1</td><td>1</td><td>1</td><td>1</td><td>...</td><td>0</td><td>0</td><td>0</td><td>0</td><td>0</td><td>0</td><td>0</td><td>0</td><td>0</td><td>0</td></tr>\n",
       "\t<tr><td>54</td><td>0</td><td>3900</td><td>40</td><td>&lt;=50K</td><td>0</td><td>1</td><td>1</td><td>1</td><td>0</td><td>...</td><td>0</td><td>0</td><td>0</td><td>0</td><td>0</td><td>0</td><td>0</td><td>0</td><td>0</td><td>0</td></tr>\n",
       "\t<tr><td>41</td><td>0</td><td>3900</td><td>40</td><td>&lt;=50K</td><td>0</td><td>1</td><td>1</td><td>1</td><td>0</td><td>...</td><td>0</td><td>0</td><td>0</td><td>0</td><td>0</td><td>0</td><td>0</td><td>0</td><td>0</td><td>0</td></tr>\n",
       "\t<tr><td>34</td><td>0</td><td>3770</td><td>45</td><td>&lt;=50K</td><td>0</td><td>1</td><td>1</td><td>1</td><td>0</td><td>...</td><td>0</td><td>0</td><td>0</td><td>0</td><td>0</td><td>0</td><td>0</td><td>0</td><td>0</td><td>0</td></tr>\n",
       "\t<tr><td>38</td><td>0</td><td>3770</td><td>40</td><td>&lt;=50K</td><td>0</td><td>0</td><td>1</td><td>1</td><td>0</td><td>...</td><td>1</td><td>0</td><td>0</td><td>0</td><td>0</td><td>0</td><td>0</td><td>0</td><td>0</td><td>0</td></tr>\n",
       "\t<tr><td>61</td><td>0</td><td>2754</td><td>25</td><td>&lt;=50K</td><td>0</td><td>1</td><td>1</td><td>1</td><td>0</td><td>...</td><td>0</td><td>1</td><td>0</td><td>0</td><td>0</td><td>0</td><td>0</td><td>0</td><td>0</td><td>0</td></tr>\n",
       "</tbody>\n",
       "</table>\n"
      ],
      "text/latex": [
       "A tibble: 6 × 23\n",
       "\\begin{tabular}{lllllllllllllllllllll}\n",
       " age & capital.gain & capital.loss & hours.per.week & income & is\\_married & sex\\_dummy & being\\_paid & is\\_american & exec.managerial & ... & adm.clerical & sales & transport.moving & craft.repair & farming.fishing & tech.support & handlers.cleaners & protective.serv & priv.house.serv & armed.forces\\\\\n",
       " <dbl> & <dbl> & <dbl> & <dbl> & <chr> & <dbl> & <dbl> & <dbl> & <dbl> & <int> & ... & <int> & <int> & <int> & <int> & <int> & <int> & <int> & <int> & <int> & <int>\\\\\n",
       "\\hline\n",
       "\t 82 & 0 & 4356 & 18 & <=50K & 0 & 1 & 1 & 1 & 1 & ... & 0 & 0 & 0 & 0 & 0 & 0 & 0 & 0 & 0 & 0\\\\\n",
       "\t 54 & 0 & 3900 & 40 & <=50K & 0 & 1 & 1 & 1 & 0 & ... & 0 & 0 & 0 & 0 & 0 & 0 & 0 & 0 & 0 & 0\\\\\n",
       "\t 41 & 0 & 3900 & 40 & <=50K & 0 & 1 & 1 & 1 & 0 & ... & 0 & 0 & 0 & 0 & 0 & 0 & 0 & 0 & 0 & 0\\\\\n",
       "\t 34 & 0 & 3770 & 45 & <=50K & 0 & 1 & 1 & 1 & 0 & ... & 0 & 0 & 0 & 0 & 0 & 0 & 0 & 0 & 0 & 0\\\\\n",
       "\t 38 & 0 & 3770 & 40 & <=50K & 0 & 0 & 1 & 1 & 0 & ... & 1 & 0 & 0 & 0 & 0 & 0 & 0 & 0 & 0 & 0\\\\\n",
       "\t 61 & 0 & 2754 & 25 & <=50K & 0 & 1 & 1 & 1 & 0 & ... & 0 & 1 & 0 & 0 & 0 & 0 & 0 & 0 & 0 & 0\\\\\n",
       "\\end{tabular}\n"
      ],
      "text/markdown": [
       "\n",
       "A tibble: 6 × 23\n",
       "\n",
       "| age &lt;dbl&gt; | capital.gain &lt;dbl&gt; | capital.loss &lt;dbl&gt; | hours.per.week &lt;dbl&gt; | income &lt;chr&gt; | is_married &lt;dbl&gt; | sex_dummy &lt;dbl&gt; | being_paid &lt;dbl&gt; | is_american &lt;dbl&gt; | exec.managerial &lt;int&gt; | ... ... | adm.clerical &lt;int&gt; | sales &lt;int&gt; | transport.moving &lt;int&gt; | craft.repair &lt;int&gt; | farming.fishing &lt;int&gt; | tech.support &lt;int&gt; | handlers.cleaners &lt;int&gt; | protective.serv &lt;int&gt; | priv.house.serv &lt;int&gt; | armed.forces &lt;int&gt; |\n",
       "|---|---|---|---|---|---|---|---|---|---|---|---|---|---|---|---|---|---|---|---|---|\n",
       "| 82 | 0 | 4356 | 18 | &lt;=50K | 0 | 1 | 1 | 1 | 1 | ... | 0 | 0 | 0 | 0 | 0 | 0 | 0 | 0 | 0 | 0 |\n",
       "| 54 | 0 | 3900 | 40 | &lt;=50K | 0 | 1 | 1 | 1 | 0 | ... | 0 | 0 | 0 | 0 | 0 | 0 | 0 | 0 | 0 | 0 |\n",
       "| 41 | 0 | 3900 | 40 | &lt;=50K | 0 | 1 | 1 | 1 | 0 | ... | 0 | 0 | 0 | 0 | 0 | 0 | 0 | 0 | 0 | 0 |\n",
       "| 34 | 0 | 3770 | 45 | &lt;=50K | 0 | 1 | 1 | 1 | 0 | ... | 0 | 0 | 0 | 0 | 0 | 0 | 0 | 0 | 0 | 0 |\n",
       "| 38 | 0 | 3770 | 40 | &lt;=50K | 0 | 0 | 1 | 1 | 0 | ... | 1 | 0 | 0 | 0 | 0 | 0 | 0 | 0 | 0 | 0 |\n",
       "| 61 | 0 | 2754 | 25 | &lt;=50K | 0 | 1 | 1 | 1 | 0 | ... | 0 | 1 | 0 | 0 | 0 | 0 | 0 | 0 | 0 | 0 |\n",
       "\n"
      ],
      "text/plain": [
       "  age capital.gain capital.loss hours.per.week income is_married sex_dummy\n",
       "1 82  0            4356         18             <=50K  0          1        \n",
       "2 54  0            3900         40             <=50K  0          1        \n",
       "3 41  0            3900         40             <=50K  0          1        \n",
       "4 34  0            3770         45             <=50K  0          1        \n",
       "5 38  0            3770         40             <=50K  0          0        \n",
       "6 61  0            2754         25             <=50K  0          1        \n",
       "  being_paid is_american exec.managerial ... adm.clerical sales\n",
       "1 1          1           1               ... 0            0    \n",
       "2 1          1           0               ... 0            0    \n",
       "3 1          1           0               ... 0            0    \n",
       "4 1          1           0               ... 0            0    \n",
       "5 1          1           0               ... 1            0    \n",
       "6 1          1           0               ... 0            1    \n",
       "  transport.moving craft.repair farming.fishing tech.support handlers.cleaners\n",
       "1 0                0            0               0            0                \n",
       "2 0                0            0               0            0                \n",
       "3 0                0            0               0            0                \n",
       "4 0                0            0               0            0                \n",
       "5 0                0            0               0            0                \n",
       "6 0                0            0               0            0                \n",
       "  protective.serv priv.house.serv armed.forces\n",
       "1 0               0               0           \n",
       "2 0               0               0           \n",
       "3 0               0               0           \n",
       "4 0               0               0           \n",
       "5 0               0               0           \n",
       "6 0               0               0           "
      ]
     },
     "metadata": {},
     "output_type": "display_data"
    }
   ],
   "source": [
    "tidy_df <- occupations_df |>\n",
    "    select(-c(occupation, workclass, education, occupation, relationship, sex, native.country))\n",
    "\n",
    "head(tidy_df)"
   ]
  },
  {
   "cell_type": "markdown",
   "metadata": {},
   "source": [
    "Below is an function that does all of our pre-processing. It can be verified by checking if the changes we made above are the same as the changes made by the function"
   ]
  },
  {
   "cell_type": "code",
   "execution_count": 8,
   "metadata": {
    "vscode": {
     "languageId": "r"
    }
   },
   "outputs": [
    {
     "name": "stdout",
     "output_type": "stream",
     "text": [
      "[1] TRUE\n"
     ]
    }
   ],
   "source": [
    "process_df <- function(df){\n",
    "    filtered_df <- df |>\n",
    "    select(age, workclass, education, occupation, relationship, sex,\n",
    "            capital.gain, capital.loss, hours.per.week, native.country, income) |>\n",
    "    filter(workclass != \"?\" & occupation != \"?\")\n",
    "\n",
    "    binary_df <- preprocess_binary(filtered_df)\n",
    "\n",
    "    unique_occupations <- as.list(unique(binary_df$occupation))\n",
    "    occupations_df <- preprocess_occupation(binary_df, unique_occupations) \n",
    "    new_cols_df <- select(occupations_df, -c(occupation, workclass, education, occupation, relationship, sex, native.country))\n",
    "\n",
    "    return(new_cols_df)\n",
    "}\n",
    "\n",
    "processed_df_train <- process_df(df_train)\n",
    "print(all.equal(processed_df_train, tidy_df) & all.equal(colnames(processed_df_train), colnames(tidy_df)))"
   ]
  },
  {
   "cell_type": "markdown",
   "metadata": {},
   "source": [
    "# Preliminary Exploratory Data Analysis\n",
    "\n"
   ]
  },
  {
   "cell_type": "markdown",
   "metadata": {},
   "source": [
    "## Summary Table"
   ]
  },
  {
   "cell_type": "code",
   "execution_count": 9,
   "metadata": {
    "vscode": {
     "languageId": "r"
    }
   },
   "outputs": [
    {
     "data": {
      "text/html": [
       "<table class=\"dataframe\">\n",
       "<caption>A tibble: 2 × 23</caption>\n",
       "<thead>\n",
       "\t<tr><th scope=col>income</th><th scope=col>mean_age</th><th scope=col>mean_capital.gain</th><th scope=col>mean_capital.loss</th><th scope=col>mean_hours.per.week</th><th scope=col>mean_is_married</th><th scope=col>mean_sex_dummy</th><th scope=col>mean_being_paid</th><th scope=col>mean_is_american</th><th scope=col>mean_exec.managerial</th><th scope=col>...</th><th scope=col>mean_adm.clerical</th><th scope=col>mean_sales</th><th scope=col>mean_transport.moving</th><th scope=col>mean_craft.repair</th><th scope=col>mean_farming.fishing</th><th scope=col>mean_tech.support</th><th scope=col>mean_handlers.cleaners</th><th scope=col>mean_protective.serv</th><th scope=col>mean_priv.house.serv</th><th scope=col>mean_armed.forces</th></tr>\n",
       "\t<tr><th scope=col>&lt;chr&gt;</th><th scope=col>&lt;dbl&gt;</th><th scope=col>&lt;dbl&gt;</th><th scope=col>&lt;dbl&gt;</th><th scope=col>&lt;dbl&gt;</th><th scope=col>&lt;dbl&gt;</th><th scope=col>&lt;dbl&gt;</th><th scope=col>&lt;dbl&gt;</th><th scope=col>&lt;dbl&gt;</th><th scope=col>&lt;dbl&gt;</th><th scope=col>...</th><th scope=col>&lt;dbl&gt;</th><th scope=col>&lt;dbl&gt;</th><th scope=col>&lt;dbl&gt;</th><th scope=col>&lt;dbl&gt;</th><th scope=col>&lt;dbl&gt;</th><th scope=col>&lt;dbl&gt;</th><th scope=col>&lt;dbl&gt;</th><th scope=col>&lt;dbl&gt;</th><th scope=col>&lt;dbl&gt;</th><th scope=col>&lt;dbl&gt;</th></tr>\n",
       "</thead>\n",
       "<tbody>\n",
       "\t<tr><td>&lt;=50K</td><td>36.59</td><td> 145.31</td><td> 53.78</td><td>39.35</td><td>0.33</td><td>0.38</td><td>0.92</td><td>0.89</td><td>0.09</td><td>...</td><td>0.14</td><td>0.12</td><td>0.06</td><td>0.14</td><td>0.04</td><td>0.03</td><td>0.05</td><td>0.02</td><td>0.01</td><td>0</td></tr>\n",
       "\t<tr><td>&gt;50K </td><td>43.95</td><td>4068.02</td><td>200.87</td><td>45.75</td><td>0.85</td><td>0.15</td><td>0.91</td><td>0.91</td><td>0.25</td><td>...</td><td>0.07</td><td>0.13</td><td>0.04</td><td>0.12</td><td>0.01</td><td>0.04</td><td>0.01</td><td>0.03</td><td>0.00</td><td>0</td></tr>\n",
       "</tbody>\n",
       "</table>\n"
      ],
      "text/latex": [
       "A tibble: 2 × 23\n",
       "\\begin{tabular}{lllllllllllllllllllll}\n",
       " income & mean\\_age & mean\\_capital.gain & mean\\_capital.loss & mean\\_hours.per.week & mean\\_is\\_married & mean\\_sex\\_dummy & mean\\_being\\_paid & mean\\_is\\_american & mean\\_exec.managerial & ... & mean\\_adm.clerical & mean\\_sales & mean\\_transport.moving & mean\\_craft.repair & mean\\_farming.fishing & mean\\_tech.support & mean\\_handlers.cleaners & mean\\_protective.serv & mean\\_priv.house.serv & mean\\_armed.forces\\\\\n",
       " <chr> & <dbl> & <dbl> & <dbl> & <dbl> & <dbl> & <dbl> & <dbl> & <dbl> & <dbl> & ... & <dbl> & <dbl> & <dbl> & <dbl> & <dbl> & <dbl> & <dbl> & <dbl> & <dbl> & <dbl>\\\\\n",
       "\\hline\n",
       "\t <=50K & 36.59 &  145.31 &  53.78 & 39.35 & 0.33 & 0.38 & 0.92 & 0.89 & 0.09 & ... & 0.14 & 0.12 & 0.06 & 0.14 & 0.04 & 0.03 & 0.05 & 0.02 & 0.01 & 0\\\\\n",
       "\t >50K  & 43.95 & 4068.02 & 200.87 & 45.75 & 0.85 & 0.15 & 0.91 & 0.91 & 0.25 & ... & 0.07 & 0.13 & 0.04 & 0.12 & 0.01 & 0.04 & 0.01 & 0.03 & 0.00 & 0\\\\\n",
       "\\end{tabular}\n"
      ],
      "text/markdown": [
       "\n",
       "A tibble: 2 × 23\n",
       "\n",
       "| income &lt;chr&gt; | mean_age &lt;dbl&gt; | mean_capital.gain &lt;dbl&gt; | mean_capital.loss &lt;dbl&gt; | mean_hours.per.week &lt;dbl&gt; | mean_is_married &lt;dbl&gt; | mean_sex_dummy &lt;dbl&gt; | mean_being_paid &lt;dbl&gt; | mean_is_american &lt;dbl&gt; | mean_exec.managerial &lt;dbl&gt; | ... ... | mean_adm.clerical &lt;dbl&gt; | mean_sales &lt;dbl&gt; | mean_transport.moving &lt;dbl&gt; | mean_craft.repair &lt;dbl&gt; | mean_farming.fishing &lt;dbl&gt; | mean_tech.support &lt;dbl&gt; | mean_handlers.cleaners &lt;dbl&gt; | mean_protective.serv &lt;dbl&gt; | mean_priv.house.serv &lt;dbl&gt; | mean_armed.forces &lt;dbl&gt; |\n",
       "|---|---|---|---|---|---|---|---|---|---|---|---|---|---|---|---|---|---|---|---|---|\n",
       "| &lt;=50K | 36.59 |  145.31 |  53.78 | 39.35 | 0.33 | 0.38 | 0.92 | 0.89 | 0.09 | ... | 0.14 | 0.12 | 0.06 | 0.14 | 0.04 | 0.03 | 0.05 | 0.02 | 0.01 | 0 |\n",
       "| &gt;50K  | 43.95 | 4068.02 | 200.87 | 45.75 | 0.85 | 0.15 | 0.91 | 0.91 | 0.25 | ... | 0.07 | 0.13 | 0.04 | 0.12 | 0.01 | 0.04 | 0.01 | 0.03 | 0.00 | 0 |\n",
       "\n"
      ],
      "text/plain": [
       "  income mean_age mean_capital.gain mean_capital.loss mean_hours.per.week\n",
       "1 <=50K  36.59     145.31            53.78            39.35              \n",
       "2 >50K   43.95    4068.02           200.87            45.75              \n",
       "  mean_is_married mean_sex_dummy mean_being_paid mean_is_american\n",
       "1 0.33            0.38           0.92            0.89            \n",
       "2 0.85            0.15           0.91            0.91            \n",
       "  mean_exec.managerial ... mean_adm.clerical mean_sales mean_transport.moving\n",
       "1 0.09                 ... 0.14              0.12       0.06                 \n",
       "2 0.25                 ... 0.07              0.13       0.04                 \n",
       "  mean_craft.repair mean_farming.fishing mean_tech.support\n",
       "1 0.14              0.04                 0.03             \n",
       "2 0.12              0.01                 0.04             \n",
       "  mean_handlers.cleaners mean_protective.serv mean_priv.house.serv\n",
       "1 0.05                   0.02                 0.01                \n",
       "2 0.01                   0.03                 0.00                \n",
       "  mean_armed.forces\n",
       "1 0                \n",
       "2 0                "
      ]
     },
     "metadata": {},
     "output_type": "display_data"
    }
   ],
   "source": [
    "summary_table <- tidy_df |>\n",
    "group_by(income) |>\n",
    "summarize(across(everything(), ~ round(mean(., na.rm = TRUE), 2), .names = \"mean_{.col}\")) \n",
    "\n",
    "summary_table"
   ]
  },
  {
   "cell_type": "markdown",
   "metadata": {},
   "source": [
    "This table shows the mean value for every column in each category split by the income category"
   ]
  },
  {
   "cell_type": "markdown",
   "metadata": {},
   "source": [
    "## EDA Visualization\n",
    "\n",
    "An example of a visualization we can do is look at how variable affect the income category. For example, we believe age has high predictive power and we want to see how the proportion of people with income >50k changes with age. "
   ]
  },
  {
   "cell_type": "code",
   "execution_count": 10,
   "metadata": {
    "vscode": {
     "languageId": "r"
    }
   },
   "outputs": [
    {
     "data": {
      "image/png": "[encoded data removed]",
      "text/plain": [
       "plot without title"
      ]
     },
     "metadata": {
      "image/png": {
       "height": 420,
       "width": 420
      }
     },
     "output_type": "display_data"
    }
   ],
   "source": [
    "age_plot <- tidy_df %>%\n",
    "  group_by(age) %>%\n",
    "  summarise(proportion = sum(income == \">50K\") / n()) |>\n",
    "    ggplot(aes(x = age, y = proportion)) +\n",
    "    geom_line() +\n",
    "    labs(x = \"Age\", y = \"% Of people with Income > 50k\") +\n",
    "    ggtitle(\"Proportion of People with High Income vs Age\") + \n",
    "    theme_minimal()\n",
    "  \n",
    "  age_plot"
   ]
  },
  {
   "cell_type": "markdown",
   "metadata": {},
   "source": [
    "# Methods"
   ]
  },
  {
   "cell_type": "markdown",
   "metadata": {},
   "source": [
    "For our data analysis, we will perform classification using the variables seen above. For our classification, we will use the knn algorithm (or using logistic regression) which will determine the income of the person based on the categories. We will follow the steps outlined in the class by first creating a recipe for the model, training our data using the k nearest neighbors function by choosing and optimizing the most appropriate K, and then using the fit function to fit the specification on our dataset. All these steps will be combined using the workflow. After, we will apply the dataset to predict function to get the final result.\n",
    "\n",
    "The visualizations will be done by plotting a bar graph to show which factors will have the greatest impact on the annual income of a person. This can represent how important some variables are in terms of coefficients or predictive power.\n",
    "\n",
    "We can also use the above graph as an example, and repeat this for different variables/groupings of variables\n"
   ]
  },
  {
   "cell_type": "markdown",
   "metadata": {},
   "source": [
    "# Expected outcomes and significance"
   ]
  },
  {
   "cell_type": "markdown",
   "metadata": {},
   "source": [
    "We expect to identify certain variables having greater or lesser importance in predicting annual income. For example, we believe that age is a major contributer to identifying income. \n",
    "\n",
    "The impact of comparing the effects of different categories on an individual's annual income is that viewers will be able to discern which factors hold more or less significance. \n",
    "\n",
    "This analysis may potentially lead to further questions regarding why specific socio-economic variables have a more prominent impact on determining annual salary. \n"
   ]
  }
 ],
 "metadata": {
  "kernelspec": {
   "display_name": "R",
   "language": "R",
   "name": "ir"
  },
  "language_info": {
   "codemirror_mode": "r",
   "file_extension": ".r",
   "mimetype": "text/x-r-source",
   "name": "R",
   "pygments_lexer": "r",
   "version": "4.3.1"
  }
 },
 "nbformat": 4,
 "nbformat_minor": 2
}
