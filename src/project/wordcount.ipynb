import json

with open('test.ipynb') as json_file:
    data = json.load(json_file)

print(data)
